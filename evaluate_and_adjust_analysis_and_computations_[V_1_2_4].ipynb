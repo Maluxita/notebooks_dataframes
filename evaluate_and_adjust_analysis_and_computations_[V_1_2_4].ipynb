{
  "nbformat": 4,
  "nbformat_minor": 0,
  "metadata": {
    "colab": {
      "name": "test- de evaluate and adjust análisis [V 1.2.4 Para Malú]",
      "provenance": [],
      "collapsed_sections": [],
      "toc_visible": true,
      "include_colab_link": true
    },
    "kernelspec": {
      "name": "python3",
      "display_name": "Python 3"
    }
  },
  "cells": [
    {
      "cell_type": "markdown",
      "metadata": {
        "id": "view-in-github",
        "colab_type": "text"
      },
      "source": [
        "<a href=\"https://colab.research.google.com/github/Maluxita/notebooks_dataframes/blob/master/evaluate_and_adjust_analysis_and_computations_%5BV_1_2_4%5D.ipynb\" target=\"_parent\"><img src=\"https://colab.research.google.com/assets/colab-badge.svg\" alt=\"Open In Colab\"/></a>"
      ]
    },
    {
      "cell_type": "markdown",
      "metadata": {
        "id": "nxEDbadQBOaV",
        "colab_type": "text"
      },
      "source": [
        "Esta notebook sirve para verificar en los cómputos:\n",
        "- Que no haya campos vacíos\n",
        "- Que todos los valores sean enteros\n",
        "- Que no haya caracteres de espacio dentro del valor de la celda\n",
        "- Saber cuál es el valor máximo de municipios y distritos y guardarlo en una variable\n",
        "- Que los valores del conjunto de distritos y municipios sean una serie ininterrumpida que va de 1 (o 0) al máximo de municipios o distritos de esa elección\n",
        "\n"
      ]
    },
    {
      "cell_type": "markdown",
      "metadata": {
        "colab_type": "text",
        "id": "589ZHJjh-rQr"
      },
      "source": [
        "# Sección Observar tipos de dato en análisis"
      ]
    },
    {
      "cell_type": "code",
      "metadata": {
        "id": "lCu8gJLVyJFI",
        "colab_type": "code",
        "colab": {}
      },
      "source": [
        "import pandas as pd\n",
        "from IPython.display import display, HTML\n",
        "content_books = !ls *.xlsx | tr '\\n' '\\n'"
      ],
      "execution_count": null,
      "outputs": []
    },
    {
      "cell_type": "code",
      "metadata": {
        "id": "bJ1XWvFfuJt3",
        "colab_type": "code",
        "colab": {}
      },
      "source": [
        "content_books = !ls *.xlsx | tr '\\n' '\\n'"
      ],
      "execution_count": null,
      "outputs": []
    },
    {
      "cell_type": "code",
      "metadata": {
        "id": "I4tOUaUbyT4E",
        "colab_type": "code",
        "colab": {
          "base_uri": "https://localhost:8080/",
          "height": 1000
        },
        "outputId": "7eacf073-ea43-4c57-80b0-1a44a3b61160"
      },
      "source": [
        "for n in [1]:\n",
        "  for file_name in content_books:\n",
        "    print('\\n--------------------------------')\n",
        "    print(file_name)\n",
        "    print('--------------------------------\\n')\n",
        "    sheet_to_df_map = pd.read_excel(file_name, sheet_name=None)\n",
        "    for sheet,data in sheet_to_df_map.items():\n",
        "      print('\\n\\t*****--*****--*****')\n",
        "      print('\\t    ',sheet)\n",
        "      print('\\t*****--*****--*****\\n')\n",
        "      my_data=pd.DataFrame(data)\n",
        "      s1=list(my_data.columns)\n",
        "      s2=list(my_data.dtypes)\n",
        "      df_types=pd.DataFrame([s2], columns=s1)\n",
        "      display(HTML(df_types.to_html()))\n",
        "      print()\n",
        "      display(HTML(my_data.head(5).to_html()))\n"
      ],
      "execution_count": null,
      "outputs": [
        {
          "output_type": "stream",
          "text": [
            "\n",
            "--------------------------------\n",
            "estado-de-mexico_municipios_2012.xlsx\n",
            "--------------------------------\n",
            "\n",
            "\n",
            "\t*****--*****--*****\n",
            "\t     Election\n",
            "\t*****--*****--*****\n",
            "\n"
          ],
          "name": "stdout"
        },
        {
          "output_type": "display_data",
          "data": {
            "text/html": [
              "<table border=\"1\" class=\"dataframe\">\n",
              "  <thead>\n",
              "    <tr style=\"text-align: right;\">\n",
              "      <th></th>\n",
              "      <th>State</th>\n",
              "      <th>Year</th>\n",
              "      <th>Election_type</th>\n",
              "      <th>Total_votes</th>\n",
              "      <th>Nominal_list</th>\n",
              "      <th>Computed_transactions</th>\n",
              "      <th>Fidelity</th>\n",
              "    </tr>\n",
              "  </thead>\n",
              "  <tbody>\n",
              "    <tr>\n",
              "      <th>0</th>\n",
              "      <td>int64</td>\n",
              "      <td>int64</td>\n",
              "      <td>object</td>\n",
              "      <td>int64</td>\n",
              "      <td>int64</td>\n",
              "      <td>int64</td>\n",
              "      <td>int64</td>\n",
              "    </tr>\n",
              "  </tbody>\n",
              "</table>"
            ],
            "text/plain": [
              "<IPython.core.display.HTML object>"
            ]
          },
          "metadata": {
            "tags": []
          }
        },
        {
          "output_type": "stream",
          "text": [
            "\n"
          ],
          "name": "stdout"
        },
        {
          "output_type": "display_data",
          "data": {
            "text/html": [
              "<table border=\"1\" class=\"dataframe\">\n",
              "  <thead>\n",
              "    <tr style=\"text-align: right;\">\n",
              "      <th></th>\n",
              "      <th>State</th>\n",
              "      <th>Year</th>\n",
              "      <th>Election_type</th>\n",
              "      <th>Total_votes</th>\n",
              "      <th>Nominal_list</th>\n",
              "      <th>Computed_transactions</th>\n",
              "      <th>Fidelity</th>\n",
              "    </tr>\n",
              "  </thead>\n",
              "  <tbody>\n",
              "    <tr>\n",
              "      <th>0</th>\n",
              "      <td>15</td>\n",
              "      <td>2012</td>\n",
              "      <td>Municipios</td>\n",
              "      <td>6689261</td>\n",
              "      <td>10396537</td>\n",
              "      <td>0</td>\n",
              "      <td>3</td>\n",
              "    </tr>\n",
              "  </tbody>\n",
              "</table>"
            ],
            "text/plain": [
              "<IPython.core.display.HTML object>"
            ]
          },
          "metadata": {
            "tags": []
          }
        },
        {
          "output_type": "stream",
          "text": [
            "\n",
            "\t*****--*****--*****\n",
            "\t     Sources\n",
            "\t*****--*****--*****\n",
            "\n"
          ],
          "name": "stdout"
        },
        {
          "output_type": "display_data",
          "data": {
            "text/html": [
              "<table border=\"1\" class=\"dataframe\">\n",
              "  <thead>\n",
              "    <tr style=\"text-align: right;\">\n",
              "      <th></th>\n",
              "      <th>Name</th>\n",
              "      <th>Source</th>\n",
              "      <th>File</th>\n",
              "      <th>Fields</th>\n",
              "      <th>Considerations</th>\n",
              "    </tr>\n",
              "  </thead>\n",
              "  <tbody>\n",
              "    <tr>\n",
              "      <th>0</th>\n",
              "      <td>object</td>\n",
              "      <td>object</td>\n",
              "      <td>float64</td>\n",
              "      <td>object</td>\n",
              "      <td>float64</td>\n",
              "    </tr>\n",
              "  </tbody>\n",
              "</table>"
            ],
            "text/plain": [
              "<IPython.core.display.HTML object>"
            ]
          },
          "metadata": {
            "tags": []
          }
        },
        {
          "output_type": "stream",
          "text": [
            "\n"
          ],
          "name": "stdout"
        },
        {
          "output_type": "display_data",
          "data": {
            "text/html": [
              "<table border=\"1\" class=\"dataframe\">\n",
              "  <thead>\n",
              "    <tr style=\"text-align: right;\">\n",
              "      <th></th>\n",
              "      <th>Name</th>\n",
              "      <th>Source</th>\n",
              "      <th>File</th>\n",
              "      <th>Fields</th>\n",
              "      <th>Considerations</th>\n",
              "    </tr>\n",
              "  </thead>\n",
              "  <tbody>\n",
              "    <tr>\n",
              "      <th>0</th>\n",
              "      <td>Registro histórico de elecciones</td>\n",
              "      <td>https://www.ieem.org.mx/numeralia/result_elect.html</td>\n",
              "      <td>NaN</td>\n",
              "      <td>Election,Candidates,Coalitions,Election_counts</td>\n",
              "      <td>NaN</td>\n",
              "    </tr>\n",
              "  </tbody>\n",
              "</table>"
            ],
            "text/plain": [
              "<IPython.core.display.HTML object>"
            ]
          },
          "metadata": {
            "tags": []
          }
        },
        {
          "output_type": "stream",
          "text": [
            "\n",
            "\t*****--*****--*****\n",
            "\t     Candidates\n",
            "\t*****--*****--*****\n",
            "\n"
          ],
          "name": "stdout"
        },
        {
          "output_type": "display_data",
          "data": {
            "text/html": [
              "<table border=\"1\" class=\"dataframe\">\n",
              "  <thead>\n",
              "    <tr style=\"text-align: right;\">\n",
              "      <th></th>\n",
              "      <th>ID_Election_count</th>\n",
              "      <th>Candidate</th>\n",
              "      <th>Affiliation</th>\n",
              "      <th>Represents</th>\n",
              "    </tr>\n",
              "  </thead>\n",
              "  <tbody>\n",
              "    <tr>\n",
              "      <th>0</th>\n",
              "      <td>object</td>\n",
              "      <td>object</td>\n",
              "      <td>object</td>\n",
              "      <td>object</td>\n",
              "    </tr>\n",
              "  </tbody>\n",
              "</table>"
            ],
            "text/plain": [
              "<IPython.core.display.HTML object>"
            ]
          },
          "metadata": {
            "tags": []
          }
        },
        {
          "output_type": "stream",
          "text": [
            "\n"
          ],
          "name": "stdout"
        },
        {
          "output_type": "display_data",
          "data": {
            "text/html": [
              "<table border=\"1\" class=\"dataframe\">\n",
              "  <thead>\n",
              "    <tr style=\"text-align: right;\">\n",
              "      <th></th>\n",
              "      <th>ID_Election_count</th>\n",
              "      <th>Candidate</th>\n",
              "      <th>Affiliation</th>\n",
              "      <th>Represents</th>\n",
              "    </tr>\n",
              "  </thead>\n",
              "  <tbody>\n",
              "  </tbody>\n",
              "</table>"
            ],
            "text/plain": [
              "<IPython.core.display.HTML object>"
            ]
          },
          "metadata": {
            "tags": []
          }
        },
        {
          "output_type": "stream",
          "text": [
            "\n",
            "\t*****--*****--*****\n",
            "\t     Coalitions\n",
            "\t*****--*****--*****\n",
            "\n"
          ],
          "name": "stdout"
        },
        {
          "output_type": "display_data",
          "data": {
            "text/html": [
              "<table border=\"1\" class=\"dataframe\">\n",
              "  <thead>\n",
              "    <tr style=\"text-align: right;\">\n",
              "      <th></th>\n",
              "      <th>ID_Election_count</th>\n",
              "      <th>Coalition</th>\n",
              "      <th>Name</th>\n",
              "      <th>Players</th>\n",
              "    </tr>\n",
              "  </thead>\n",
              "  <tbody>\n",
              "    <tr>\n",
              "      <th>0</th>\n",
              "      <td>int64</td>\n",
              "      <td>object</td>\n",
              "      <td>object</td>\n",
              "      <td>object</td>\n",
              "    </tr>\n",
              "  </tbody>\n",
              "</table>"
            ],
            "text/plain": [
              "<IPython.core.display.HTML object>"
            ]
          },
          "metadata": {
            "tags": []
          }
        },
        {
          "output_type": "stream",
          "text": [
            "\n"
          ],
          "name": "stdout"
        },
        {
          "output_type": "display_data",
          "data": {
            "text/html": [
              "<table border=\"1\" class=\"dataframe\">\n",
              "  <thead>\n",
              "    <tr style=\"text-align: right;\">\n",
              "      <th></th>\n",
              "      <th>ID_Election_count</th>\n",
              "      <th>Coalition</th>\n",
              "      <th>Name</th>\n",
              "      <th>Players</th>\n",
              "    </tr>\n",
              "  </thead>\n",
              "  <tbody>\n",
              "    <tr>\n",
              "      <th>0</th>\n",
              "      <td>1</td>\n",
              "      <td>PRI,PVEM,PANAL</td>\n",
              "      <td>Comprometidos por el Estado de México</td>\n",
              "      <td>PRI,PVEM,PANAL</td>\n",
              "    </tr>\n",
              "    <tr>\n",
              "      <th>1</th>\n",
              "      <td>2</td>\n",
              "      <td>PRI,PVEM,PANAL</td>\n",
              "      <td>Comprometidos por el Estado de México</td>\n",
              "      <td>PRI,PVEM,PANAL</td>\n",
              "    </tr>\n",
              "    <tr>\n",
              "      <th>2</th>\n",
              "      <td>3</td>\n",
              "      <td>PRI,PVEM,PANAL</td>\n",
              "      <td>Comprometidos por el Estado de México</td>\n",
              "      <td>PRI,PVEM,PANAL</td>\n",
              "    </tr>\n",
              "    <tr>\n",
              "      <th>3</th>\n",
              "      <td>4</td>\n",
              "      <td>PRI,PVEM,PANAL</td>\n",
              "      <td>Comprometidos por el Estado de México</td>\n",
              "      <td>PRI,PVEM,PANAL</td>\n",
              "    </tr>\n",
              "    <tr>\n",
              "      <th>4</th>\n",
              "      <td>5</td>\n",
              "      <td>PRI,PVEM,PANAL</td>\n",
              "      <td>Comprometidos por el Estado de México</td>\n",
              "      <td>PRI,PVEM,PANAL</td>\n",
              "    </tr>\n",
              "  </tbody>\n",
              "</table>"
            ],
            "text/plain": [
              "<IPython.core.display.HTML object>"
            ]
          },
          "metadata": {
            "tags": []
          }
        },
        {
          "output_type": "stream",
          "text": [
            "\n",
            "\t*****--*****--*****\n",
            "\t     Election_counts\n",
            "\t*****--*****--*****\n",
            "\n"
          ],
          "name": "stdout"
        },
        {
          "output_type": "display_data",
          "data": {
            "text/html": [
              "<table border=\"1\" class=\"dataframe\">\n",
              "  <thead>\n",
              "    <tr style=\"text-align: right;\">\n",
              "      <th></th>\n",
              "      <th>ID</th>\n",
              "      <th>Municipality/District/State</th>\n",
              "      <th>...</th>\n",
              "      <th>....1</th>\n",
              "      <th>....2</th>\n",
              "      <th>Not_reg</th>\n",
              "      <th>Null_votes</th>\n",
              "    </tr>\n",
              "  </thead>\n",
              "  <tbody>\n",
              "    <tr>\n",
              "      <th>0</th>\n",
              "      <td>object</td>\n",
              "      <td>object</td>\n",
              "      <td>object</td>\n",
              "      <td>object</td>\n",
              "      <td>object</td>\n",
              "      <td>object</td>\n",
              "      <td>object</td>\n",
              "    </tr>\n",
              "  </tbody>\n",
              "</table>"
            ],
            "text/plain": [
              "<IPython.core.display.HTML object>"
            ]
          },
          "metadata": {
            "tags": []
          }
        },
        {
          "output_type": "stream",
          "text": [
            "\n"
          ],
          "name": "stdout"
        },
        {
          "output_type": "display_data",
          "data": {
            "text/html": [
              "<table border=\"1\" class=\"dataframe\">\n",
              "  <thead>\n",
              "    <tr style=\"text-align: right;\">\n",
              "      <th></th>\n",
              "      <th>ID</th>\n",
              "      <th>Municipality/District/State</th>\n",
              "      <th>...</th>\n",
              "      <th>....1</th>\n",
              "      <th>....2</th>\n",
              "      <th>Not_reg</th>\n",
              "      <th>Null_votes</th>\n",
              "    </tr>\n",
              "  </thead>\n",
              "  <tbody>\n",
              "  </tbody>\n",
              "</table>"
            ],
            "text/plain": [
              "<IPython.core.display.HTML object>"
            ]
          },
          "metadata": {
            "tags": []
          }
        },
        {
          "output_type": "stream",
          "text": [
            "\n",
            "--------------------------------\n",
            "estado-de-mexico_municipios_2015.xlsx\n",
            "--------------------------------\n",
            "\n",
            "\n",
            "\t*****--*****--*****\n",
            "\t     Election\n",
            "\t*****--*****--*****\n",
            "\n"
          ],
          "name": "stdout"
        },
        {
          "output_type": "display_data",
          "data": {
            "text/html": [
              "<table border=\"1\" class=\"dataframe\">\n",
              "  <thead>\n",
              "    <tr style=\"text-align: right;\">\n",
              "      <th></th>\n",
              "      <th>State</th>\n",
              "      <th>Year</th>\n",
              "      <th>Election_type</th>\n",
              "      <th>Total_votes</th>\n",
              "      <th>Nominal_list</th>\n",
              "      <th>Computed_transactions</th>\n",
              "      <th>Fidelity</th>\n",
              "    </tr>\n",
              "  </thead>\n",
              "  <tbody>\n",
              "    <tr>\n",
              "      <th>0</th>\n",
              "      <td>int64</td>\n",
              "      <td>int64</td>\n",
              "      <td>object</td>\n",
              "      <td>int64</td>\n",
              "      <td>int64</td>\n",
              "      <td>int64</td>\n",
              "      <td>int64</td>\n",
              "    </tr>\n",
              "  </tbody>\n",
              "</table>"
            ],
            "text/plain": [
              "<IPython.core.display.HTML object>"
            ]
          },
          "metadata": {
            "tags": []
          }
        },
        {
          "output_type": "stream",
          "text": [
            "\n"
          ],
          "name": "stdout"
        },
        {
          "output_type": "display_data",
          "data": {
            "text/html": [
              "<table border=\"1\" class=\"dataframe\">\n",
              "  <thead>\n",
              "    <tr style=\"text-align: right;\">\n",
              "      <th></th>\n",
              "      <th>State</th>\n",
              "      <th>Year</th>\n",
              "      <th>Election_type</th>\n",
              "      <th>Total_votes</th>\n",
              "      <th>Nominal_list</th>\n",
              "      <th>Computed_transactions</th>\n",
              "      <th>Fidelity</th>\n",
              "    </tr>\n",
              "  </thead>\n",
              "  <tbody>\n",
              "    <tr>\n",
              "      <th>0</th>\n",
              "      <td>15</td>\n",
              "      <td>2015</td>\n",
              "      <td>Municipios</td>\n",
              "      <td>5554072</td>\n",
              "      <td>11023636</td>\n",
              "      <td>0</td>\n",
              "      <td>3</td>\n",
              "    </tr>\n",
              "  </tbody>\n",
              "</table>"
            ],
            "text/plain": [
              "<IPython.core.display.HTML object>"
            ]
          },
          "metadata": {
            "tags": []
          }
        },
        {
          "output_type": "stream",
          "text": [
            "\n",
            "\t*****--*****--*****\n",
            "\t     Sources\n",
            "\t*****--*****--*****\n",
            "\n"
          ],
          "name": "stdout"
        },
        {
          "output_type": "display_data",
          "data": {
            "text/html": [
              "<table border=\"1\" class=\"dataframe\">\n",
              "  <thead>\n",
              "    <tr style=\"text-align: right;\">\n",
              "      <th></th>\n",
              "      <th>Name</th>\n",
              "      <th>Source</th>\n",
              "      <th>File</th>\n",
              "      <th>Fields</th>\n",
              "      <th>Considerations</th>\n",
              "    </tr>\n",
              "  </thead>\n",
              "  <tbody>\n",
              "    <tr>\n",
              "      <th>0</th>\n",
              "      <td>object</td>\n",
              "      <td>object</td>\n",
              "      <td>float64</td>\n",
              "      <td>object</td>\n",
              "      <td>float64</td>\n",
              "    </tr>\n",
              "  </tbody>\n",
              "</table>"
            ],
            "text/plain": [
              "<IPython.core.display.HTML object>"
            ]
          },
          "metadata": {
            "tags": []
          }
        },
        {
          "output_type": "stream",
          "text": [
            "\n"
          ],
          "name": "stdout"
        },
        {
          "output_type": "display_data",
          "data": {
            "text/html": [
              "<table border=\"1\" class=\"dataframe\">\n",
              "  <thead>\n",
              "    <tr style=\"text-align: right;\">\n",
              "      <th></th>\n",
              "      <th>Name</th>\n",
              "      <th>Source</th>\n",
              "      <th>File</th>\n",
              "      <th>Fields</th>\n",
              "      <th>Considerations</th>\n",
              "    </tr>\n",
              "  </thead>\n",
              "  <tbody>\n",
              "    <tr>\n",
              "      <th>0</th>\n",
              "      <td>Registro histórico de elecciones</td>\n",
              "      <td>https://www.ieem.org.mx/numeralia/result_elect.html</td>\n",
              "      <td>NaN</td>\n",
              "      <td>Election,Candidates,Coalitions,Election_counts</td>\n",
              "      <td>NaN</td>\n",
              "    </tr>\n",
              "  </tbody>\n",
              "</table>"
            ],
            "text/plain": [
              "<IPython.core.display.HTML object>"
            ]
          },
          "metadata": {
            "tags": []
          }
        },
        {
          "output_type": "stream",
          "text": [
            "\n",
            "\t*****--*****--*****\n",
            "\t     Candidates\n",
            "\t*****--*****--*****\n",
            "\n"
          ],
          "name": "stdout"
        },
        {
          "output_type": "display_data",
          "data": {
            "text/html": [
              "<table border=\"1\" class=\"dataframe\">\n",
              "  <thead>\n",
              "    <tr style=\"text-align: right;\">\n",
              "      <th></th>\n",
              "      <th>ID_Election_count</th>\n",
              "      <th>Candidate</th>\n",
              "      <th>Affiliation</th>\n",
              "      <th>Represents</th>\n",
              "    </tr>\n",
              "  </thead>\n",
              "  <tbody>\n",
              "    <tr>\n",
              "      <th>0</th>\n",
              "      <td>int64</td>\n",
              "      <td>object</td>\n",
              "      <td>float64</td>\n",
              "      <td>object</td>\n",
              "    </tr>\n",
              "  </tbody>\n",
              "</table>"
            ],
            "text/plain": [
              "<IPython.core.display.HTML object>"
            ]
          },
          "metadata": {
            "tags": []
          }
        },
        {
          "output_type": "stream",
          "text": [
            "\n"
          ],
          "name": "stdout"
        },
        {
          "output_type": "display_data",
          "data": {
            "text/html": [
              "<table border=\"1\" class=\"dataframe\">\n",
              "  <thead>\n",
              "    <tr style=\"text-align: right;\">\n",
              "      <th></th>\n",
              "      <th>ID_Election_count</th>\n",
              "      <th>Candidate</th>\n",
              "      <th>Affiliation</th>\n",
              "      <th>Represents</th>\n",
              "    </tr>\n",
              "  </thead>\n",
              "  <tbody>\n",
              "    <tr>\n",
              "      <th>0</th>\n",
              "      <td>1</td>\n",
              "      <td>MA DEL CARMEN MAGDALENA PEÑA MERCADO</td>\n",
              "      <td>NaN</td>\n",
              "      <td>PRI</td>\n",
              "    </tr>\n",
              "    <tr>\n",
              "      <th>1</th>\n",
              "      <td>2</td>\n",
              "      <td>DARIO ZACARIAS CAPUCHINO</td>\n",
              "      <td>NaN</td>\n",
              "      <td>PRI,PVEM,PANAL</td>\n",
              "    </tr>\n",
              "    <tr>\n",
              "      <th>2</th>\n",
              "      <td>3</td>\n",
              "      <td>AURORA GONZALEZ LEDEZMA</td>\n",
              "      <td>NaN</td>\n",
              "      <td>PRI</td>\n",
              "    </tr>\n",
              "    <tr>\n",
              "      <th>3</th>\n",
              "      <td>4</td>\n",
              "      <td>ALFREDO VICTORIA LOPEZ</td>\n",
              "      <td>NaN</td>\n",
              "      <td>PRI,PVEM,PANAL</td>\n",
              "    </tr>\n",
              "    <tr>\n",
              "      <th>4</th>\n",
              "      <td>5</td>\n",
              "      <td>ADOLFO JONATHAN SOLIS GOMEZ</td>\n",
              "      <td>NaN</td>\n",
              "      <td>PRI</td>\n",
              "    </tr>\n",
              "  </tbody>\n",
              "</table>"
            ],
            "text/plain": [
              "<IPython.core.display.HTML object>"
            ]
          },
          "metadata": {
            "tags": []
          }
        },
        {
          "output_type": "stream",
          "text": [
            "\n",
            "\t*****--*****--*****\n",
            "\t     Coalitions\n",
            "\t*****--*****--*****\n",
            "\n"
          ],
          "name": "stdout"
        },
        {
          "output_type": "display_data",
          "data": {
            "text/html": [
              "<table border=\"1\" class=\"dataframe\">\n",
              "  <thead>\n",
              "    <tr style=\"text-align: right;\">\n",
              "      <th></th>\n",
              "      <th>ID_Election_count</th>\n",
              "      <th>Coalition</th>\n",
              "      <th>Name</th>\n",
              "      <th>Players</th>\n",
              "    </tr>\n",
              "  </thead>\n",
              "  <tbody>\n",
              "    <tr>\n",
              "      <th>0</th>\n",
              "      <td>int64</td>\n",
              "      <td>object</td>\n",
              "      <td>float64</td>\n",
              "      <td>object</td>\n",
              "    </tr>\n",
              "  </tbody>\n",
              "</table>"
            ],
            "text/plain": [
              "<IPython.core.display.HTML object>"
            ]
          },
          "metadata": {
            "tags": []
          }
        },
        {
          "output_type": "stream",
          "text": [
            "\n"
          ],
          "name": "stdout"
        },
        {
          "output_type": "display_data",
          "data": {
            "text/html": [
              "<table border=\"1\" class=\"dataframe\">\n",
              "  <thead>\n",
              "    <tr style=\"text-align: right;\">\n",
              "      <th></th>\n",
              "      <th>ID_Election_count</th>\n",
              "      <th>Coalition</th>\n",
              "      <th>Name</th>\n",
              "      <th>Players</th>\n",
              "    </tr>\n",
              "  </thead>\n",
              "  <tbody>\n",
              "    <tr>\n",
              "      <th>0</th>\n",
              "      <td>2</td>\n",
              "      <td>PRI,PVEM,PANAL</td>\n",
              "      <td>NaN</td>\n",
              "      <td>PRI,PVEM,PANAL</td>\n",
              "    </tr>\n",
              "    <tr>\n",
              "      <th>1</th>\n",
              "      <td>4</td>\n",
              "      <td>PRI,PVEM,PANAL</td>\n",
              "      <td>NaN</td>\n",
              "      <td>PRI,PVEM,PANAL</td>\n",
              "    </tr>\n",
              "    <tr>\n",
              "      <th>2</th>\n",
              "      <td>6</td>\n",
              "      <td>PRI,PVEM,PANAL</td>\n",
              "      <td>NaN</td>\n",
              "      <td>PRI,PVEM,PANAL</td>\n",
              "    </tr>\n",
              "    <tr>\n",
              "      <th>3</th>\n",
              "      <td>7</td>\n",
              "      <td>PRI,PVEM,PANAL</td>\n",
              "      <td>NaN</td>\n",
              "      <td>PRI,PVEM,PANAL</td>\n",
              "    </tr>\n",
              "    <tr>\n",
              "      <th>4</th>\n",
              "      <td>8</td>\n",
              "      <td>PRI,PVEM,PANAL</td>\n",
              "      <td>NaN</td>\n",
              "      <td>PRI,PVEM,PANAL</td>\n",
              "    </tr>\n",
              "  </tbody>\n",
              "</table>"
            ],
            "text/plain": [
              "<IPython.core.display.HTML object>"
            ]
          },
          "metadata": {
            "tags": []
          }
        },
        {
          "output_type": "stream",
          "text": [
            "\n",
            "\t*****--*****--*****\n",
            "\t     Election_counts\n",
            "\t*****--*****--*****\n",
            "\n"
          ],
          "name": "stdout"
        },
        {
          "output_type": "display_data",
          "data": {
            "text/html": [
              "<table border=\"1\" class=\"dataframe\">\n",
              "  <thead>\n",
              "    <tr style=\"text-align: right;\">\n",
              "      <th></th>\n",
              "      <th>ID</th>\n",
              "      <th>Municipality/District/State</th>\n",
              "      <th>...</th>\n",
              "      <th>....1</th>\n",
              "      <th>....2</th>\n",
              "      <th>Not_reg</th>\n",
              "      <th>Null_votes</th>\n",
              "    </tr>\n",
              "  </thead>\n",
              "  <tbody>\n",
              "    <tr>\n",
              "      <th>0</th>\n",
              "      <td>object</td>\n",
              "      <td>object</td>\n",
              "      <td>object</td>\n",
              "      <td>object</td>\n",
              "      <td>object</td>\n",
              "      <td>object</td>\n",
              "      <td>object</td>\n",
              "    </tr>\n",
              "  </tbody>\n",
              "</table>"
            ],
            "text/plain": [
              "<IPython.core.display.HTML object>"
            ]
          },
          "metadata": {
            "tags": []
          }
        },
        {
          "output_type": "stream",
          "text": [
            "\n"
          ],
          "name": "stdout"
        },
        {
          "output_type": "display_data",
          "data": {
            "text/html": [
              "<table border=\"1\" class=\"dataframe\">\n",
              "  <thead>\n",
              "    <tr style=\"text-align: right;\">\n",
              "      <th></th>\n",
              "      <th>ID</th>\n",
              "      <th>Municipality/District/State</th>\n",
              "      <th>...</th>\n",
              "      <th>....1</th>\n",
              "      <th>....2</th>\n",
              "      <th>Not_reg</th>\n",
              "      <th>Null_votes</th>\n",
              "    </tr>\n",
              "  </thead>\n",
              "  <tbody>\n",
              "  </tbody>\n",
              "</table>"
            ],
            "text/plain": [
              "<IPython.core.display.HTML object>"
            ]
          },
          "metadata": {
            "tags": []
          }
        },
        {
          "output_type": "stream",
          "text": [
            "\n",
            "--------------------------------\n",
            "estado-de-mexico_municipios_2018.xlsx\n",
            "--------------------------------\n",
            "\n",
            "\n",
            "\t*****--*****--*****\n",
            "\t     Election\n",
            "\t*****--*****--*****\n",
            "\n"
          ],
          "name": "stdout"
        },
        {
          "output_type": "display_data",
          "data": {
            "text/html": [
              "<table border=\"1\" class=\"dataframe\">\n",
              "  <thead>\n",
              "    <tr style=\"text-align: right;\">\n",
              "      <th></th>\n",
              "      <th>State</th>\n",
              "      <th>Year</th>\n",
              "      <th>Election_type</th>\n",
              "      <th>Total_votes</th>\n",
              "      <th>Nominal_list</th>\n",
              "      <th>Computed_transactions</th>\n",
              "      <th>Fidelity</th>\n",
              "    </tr>\n",
              "  </thead>\n",
              "  <tbody>\n",
              "    <tr>\n",
              "      <th>0</th>\n",
              "      <td>int64</td>\n",
              "      <td>int64</td>\n",
              "      <td>object</td>\n",
              "      <td>int64</td>\n",
              "      <td>int64</td>\n",
              "      <td>int64</td>\n",
              "      <td>int64</td>\n",
              "    </tr>\n",
              "  </tbody>\n",
              "</table>"
            ],
            "text/plain": [
              "<IPython.core.display.HTML object>"
            ]
          },
          "metadata": {
            "tags": []
          }
        },
        {
          "output_type": "stream",
          "text": [
            "\n"
          ],
          "name": "stdout"
        },
        {
          "output_type": "display_data",
          "data": {
            "text/html": [
              "<table border=\"1\" class=\"dataframe\">\n",
              "  <thead>\n",
              "    <tr style=\"text-align: right;\">\n",
              "      <th></th>\n",
              "      <th>State</th>\n",
              "      <th>Year</th>\n",
              "      <th>Election_type</th>\n",
              "      <th>Total_votes</th>\n",
              "      <th>Nominal_list</th>\n",
              "      <th>Computed_transactions</th>\n",
              "      <th>Fidelity</th>\n",
              "    </tr>\n",
              "  </thead>\n",
              "  <tbody>\n",
              "    <tr>\n",
              "      <th>0</th>\n",
              "      <td>15</td>\n",
              "      <td>2018</td>\n",
              "      <td>Municipios</td>\n",
              "      <td>7948278</td>\n",
              "      <td>11832184</td>\n",
              "      <td>0</td>\n",
              "      <td>3</td>\n",
              "    </tr>\n",
              "  </tbody>\n",
              "</table>"
            ],
            "text/plain": [
              "<IPython.core.display.HTML object>"
            ]
          },
          "metadata": {
            "tags": []
          }
        },
        {
          "output_type": "stream",
          "text": [
            "\n",
            "\t*****--*****--*****\n",
            "\t     Sources\n",
            "\t*****--*****--*****\n",
            "\n"
          ],
          "name": "stdout"
        },
        {
          "output_type": "display_data",
          "data": {
            "text/html": [
              "<table border=\"1\" class=\"dataframe\">\n",
              "  <thead>\n",
              "    <tr style=\"text-align: right;\">\n",
              "      <th></th>\n",
              "      <th>Name</th>\n",
              "      <th>Source</th>\n",
              "      <th>File</th>\n",
              "      <th>Fields</th>\n",
              "      <th>Considerations</th>\n",
              "    </tr>\n",
              "  </thead>\n",
              "  <tbody>\n",
              "    <tr>\n",
              "      <th>0</th>\n",
              "      <td>object</td>\n",
              "      <td>object</td>\n",
              "      <td>float64</td>\n",
              "      <td>object</td>\n",
              "      <td>float64</td>\n",
              "    </tr>\n",
              "  </tbody>\n",
              "</table>"
            ],
            "text/plain": [
              "<IPython.core.display.HTML object>"
            ]
          },
          "metadata": {
            "tags": []
          }
        },
        {
          "output_type": "stream",
          "text": [
            "\n"
          ],
          "name": "stdout"
        },
        {
          "output_type": "display_data",
          "data": {
            "text/html": [
              "<table border=\"1\" class=\"dataframe\">\n",
              "  <thead>\n",
              "    <tr style=\"text-align: right;\">\n",
              "      <th></th>\n",
              "      <th>Name</th>\n",
              "      <th>Source</th>\n",
              "      <th>File</th>\n",
              "      <th>Fields</th>\n",
              "      <th>Considerations</th>\n",
              "    </tr>\n",
              "  </thead>\n",
              "  <tbody>\n",
              "    <tr>\n",
              "      <th>0</th>\n",
              "      <td>Registro histórico de elecciones</td>\n",
              "      <td>https://www.ieem.org.mx/numeralia/result_elect.html</td>\n",
              "      <td>NaN</td>\n",
              "      <td>Election,Candidates,Coalitions,Election_counts</td>\n",
              "      <td>NaN</td>\n",
              "    </tr>\n",
              "  </tbody>\n",
              "</table>"
            ],
            "text/plain": [
              "<IPython.core.display.HTML object>"
            ]
          },
          "metadata": {
            "tags": []
          }
        },
        {
          "output_type": "stream",
          "text": [
            "\n",
            "\t*****--*****--*****\n",
            "\t     Candidates\n",
            "\t*****--*****--*****\n",
            "\n"
          ],
          "name": "stdout"
        },
        {
          "output_type": "display_data",
          "data": {
            "text/html": [
              "<table border=\"1\" class=\"dataframe\">\n",
              "  <thead>\n",
              "    <tr style=\"text-align: right;\">\n",
              "      <th></th>\n",
              "      <th>ID_Election_count</th>\n",
              "      <th>Candidate</th>\n",
              "      <th>Affiliation</th>\n",
              "      <th>Represents</th>\n",
              "    </tr>\n",
              "  </thead>\n",
              "  <tbody>\n",
              "    <tr>\n",
              "      <th>0</th>\n",
              "      <td>int64</td>\n",
              "      <td>object</td>\n",
              "      <td>float64</td>\n",
              "      <td>object</td>\n",
              "    </tr>\n",
              "  </tbody>\n",
              "</table>"
            ],
            "text/plain": [
              "<IPython.core.display.HTML object>"
            ]
          },
          "metadata": {
            "tags": []
          }
        },
        {
          "output_type": "stream",
          "text": [
            "\n"
          ],
          "name": "stdout"
        },
        {
          "output_type": "display_data",
          "data": {
            "text/html": [
              "<table border=\"1\" class=\"dataframe\">\n",
              "  <thead>\n",
              "    <tr style=\"text-align: right;\">\n",
              "      <th></th>\n",
              "      <th>ID_Election_count</th>\n",
              "      <th>Candidate</th>\n",
              "      <th>Affiliation</th>\n",
              "      <th>Represents</th>\n",
              "    </tr>\n",
              "  </thead>\n",
              "  <tbody>\n",
              "    <tr>\n",
              "      <th>0</th>\n",
              "      <td>1</td>\n",
              "      <td>ESPERANZA DOLORES GONZÁLEZ  MARTÍNEZ</td>\n",
              "      <td>NaN</td>\n",
              "      <td>MORENA,PT,PES</td>\n",
              "    </tr>\n",
              "    <tr>\n",
              "      <th>1</th>\n",
              "      <td>2</td>\n",
              "      <td>RIGOBERTO  CORTÉS MELGOZA</td>\n",
              "      <td>NaN</td>\n",
              "      <td>MORENA,PT,PES</td>\n",
              "    </tr>\n",
              "    <tr>\n",
              "      <th>2</th>\n",
              "      <td>3</td>\n",
              "      <td>JORGE ALFREDO OSORNIO VICTORIA</td>\n",
              "      <td>NaN</td>\n",
              "      <td>PRI</td>\n",
              "    </tr>\n",
              "    <tr>\n",
              "      <th>3</th>\n",
              "      <td>4</td>\n",
              "      <td>ARI PATRICK MENDIOLA MONDRAGÓN</td>\n",
              "      <td>NaN</td>\n",
              "      <td>PRI</td>\n",
              "    </tr>\n",
              "    <tr>\n",
              "      <th>4</th>\n",
              "      <td>5</td>\n",
              "      <td>LUIS  MAYA  DORO</td>\n",
              "      <td>NaN</td>\n",
              "      <td>MORENA</td>\n",
              "    </tr>\n",
              "  </tbody>\n",
              "</table>"
            ],
            "text/plain": [
              "<IPython.core.display.HTML object>"
            ]
          },
          "metadata": {
            "tags": []
          }
        },
        {
          "output_type": "stream",
          "text": [
            "\n",
            "\t*****--*****--*****\n",
            "\t     Coalitions\n",
            "\t*****--*****--*****\n",
            "\n"
          ],
          "name": "stdout"
        },
        {
          "output_type": "display_data",
          "data": {
            "text/html": [
              "<table border=\"1\" class=\"dataframe\">\n",
              "  <thead>\n",
              "    <tr style=\"text-align: right;\">\n",
              "      <th></th>\n",
              "      <th>ID_Election_count</th>\n",
              "      <th>Coalition</th>\n",
              "      <th>Name</th>\n",
              "      <th>Players</th>\n",
              "    </tr>\n",
              "  </thead>\n",
              "  <tbody>\n",
              "    <tr>\n",
              "      <th>0</th>\n",
              "      <td>int64</td>\n",
              "      <td>object</td>\n",
              "      <td>object</td>\n",
              "      <td>object</td>\n",
              "    </tr>\n",
              "  </tbody>\n",
              "</table>"
            ],
            "text/plain": [
              "<IPython.core.display.HTML object>"
            ]
          },
          "metadata": {
            "tags": []
          }
        },
        {
          "output_type": "stream",
          "text": [
            "\n"
          ],
          "name": "stdout"
        },
        {
          "output_type": "display_data",
          "data": {
            "text/html": [
              "<table border=\"1\" class=\"dataframe\">\n",
              "  <thead>\n",
              "    <tr style=\"text-align: right;\">\n",
              "      <th></th>\n",
              "      <th>ID_Election_count</th>\n",
              "      <th>Coalition</th>\n",
              "      <th>Name</th>\n",
              "      <th>Players</th>\n",
              "    </tr>\n",
              "  </thead>\n",
              "  <tbody>\n",
              "    <tr>\n",
              "      <th>0</th>\n",
              "      <td>1</td>\n",
              "      <td>PAN,PRD,MC</td>\n",
              "      <td>Por el Estado de México al Frente</td>\n",
              "      <td>PAN,PRD,MC</td>\n",
              "    </tr>\n",
              "    <tr>\n",
              "      <th>1</th>\n",
              "      <td>2</td>\n",
              "      <td>PAN,PRD,MC</td>\n",
              "      <td>Por el Estado de México al Frente</td>\n",
              "      <td>PAN,PRD,MC</td>\n",
              "    </tr>\n",
              "    <tr>\n",
              "      <th>2</th>\n",
              "      <td>3</td>\n",
              "      <td>PAN,PRD,MC</td>\n",
              "      <td>Por el Estado de México al Frente</td>\n",
              "      <td>PAN,PRD,MC</td>\n",
              "    </tr>\n",
              "    <tr>\n",
              "      <th>3</th>\n",
              "      <td>4</td>\n",
              "      <td>PAN,PRD,MC</td>\n",
              "      <td>Por el Estado de México al Frente</td>\n",
              "      <td>PAN,PRD,MC</td>\n",
              "    </tr>\n",
              "    <tr>\n",
              "      <th>4</th>\n",
              "      <td>5</td>\n",
              "      <td>PAN,PRD,MC</td>\n",
              "      <td>Por el Estado de México al Frente</td>\n",
              "      <td>PAN,PRD,MC</td>\n",
              "    </tr>\n",
              "  </tbody>\n",
              "</table>"
            ],
            "text/plain": [
              "<IPython.core.display.HTML object>"
            ]
          },
          "metadata": {
            "tags": []
          }
        },
        {
          "output_type": "stream",
          "text": [
            "\n",
            "\t*****--*****--*****\n",
            "\t     Election_counts\n",
            "\t*****--*****--*****\n",
            "\n"
          ],
          "name": "stdout"
        },
        {
          "output_type": "display_data",
          "data": {
            "text/html": [
              "<table border=\"1\" class=\"dataframe\">\n",
              "  <thead>\n",
              "    <tr style=\"text-align: right;\">\n",
              "      <th></th>\n",
              "      <th>ID</th>\n",
              "      <th>Municipality/District/State</th>\n",
              "      <th>...</th>\n",
              "      <th>....1</th>\n",
              "      <th>....2</th>\n",
              "      <th>Not_reg</th>\n",
              "      <th>Null_votes</th>\n",
              "    </tr>\n",
              "  </thead>\n",
              "  <tbody>\n",
              "    <tr>\n",
              "      <th>0</th>\n",
              "      <td>object</td>\n",
              "      <td>object</td>\n",
              "      <td>object</td>\n",
              "      <td>object</td>\n",
              "      <td>object</td>\n",
              "      <td>object</td>\n",
              "      <td>object</td>\n",
              "    </tr>\n",
              "  </tbody>\n",
              "</table>"
            ],
            "text/plain": [
              "<IPython.core.display.HTML object>"
            ]
          },
          "metadata": {
            "tags": []
          }
        },
        {
          "output_type": "stream",
          "text": [
            "\n"
          ],
          "name": "stdout"
        },
        {
          "output_type": "display_data",
          "data": {
            "text/html": [
              "<table border=\"1\" class=\"dataframe\">\n",
              "  <thead>\n",
              "    <tr style=\"text-align: right;\">\n",
              "      <th></th>\n",
              "      <th>ID</th>\n",
              "      <th>Municipality/District/State</th>\n",
              "      <th>...</th>\n",
              "      <th>....1</th>\n",
              "      <th>....2</th>\n",
              "      <th>Not_reg</th>\n",
              "      <th>Null_votes</th>\n",
              "    </tr>\n",
              "  </thead>\n",
              "  <tbody>\n",
              "  </tbody>\n",
              "</table>"
            ],
            "text/plain": [
              "<IPython.core.display.HTML object>"
            ]
          },
          "metadata": {
            "tags": []
          }
        }
      ]
    },
    {
      "cell_type": "code",
      "metadata": {
        "id": "StAfkacBQSqp",
        "colab_type": "code",
        "colab": {
          "base_uri": "https://localhost:8080/",
          "height": 1000
        },
        "outputId": "2ef09c57-f07e-4864-c415-8baf728c3c59"
      },
      "source": [
        "import pandas as pd\n",
        "from IPython.display import display, HTML\n",
        "\n",
        "content_books = !ls *.xlsx | tr '\\n' '\\n'\n",
        "sheets=['Election','Sources','Candidates','Coalitions','Election_counts']\n",
        "for sheet in sheets:\n",
        "  for file_name in content_books:\n",
        "    print('\\n-----------------------------------------')\n",
        "    print(file_name)\n",
        "    print('-----------------------------------------')\n",
        "    sheet_to_df = pd.read_excel(file_name, sheet_name=sheet)\n",
        "    #for sheet,data in sheet_to_df_map.items():\n",
        "    #print('\\t*****--*****--*****')\n",
        "    print('\\tHoja:',sheet)\n",
        "    if sheet_to_df.isnull().sum().sum() >0:\n",
        "      print(f'\\n\\t.   ∞ En total tiene {sheet_to_df.isnull().sum().sum()} NaN  ∞   . \\n')\n",
        "      null_columns = sheet_to_df.columns[sheet_to_df.isnull().any()]\n",
        "      print('\\t\\t Conteo por columna:\\n') \n",
        "      msg=''.join(sheet_to_df[null_columns].isnull().sum().to_string()).split('\\n')\n",
        "      print('\\t\\t',',\\n\\t\\t '.join(msg))\n",
        "\n",
        "    print('\\t**_**--**_**--**_**--**_**--**_**\\n')\n",
        "    #my_data=pd.DataFrame(data)\n",
        "    s1 = list(sheet_to_df.columns)\n",
        "    s2 = list(sheet_to_df.dtypes)\n",
        "    \n",
        "    df_types = pd.DataFrame([s2], columns=s1)\n",
        "    display(HTML(df_types.to_html()))\n",
        "    print()\n",
        "    display(HTML(sheet_to_df.head(2).to_html()))"
      ],
      "execution_count": null,
      "outputs": [
        {
          "output_type": "stream",
          "text": [
            "\n",
            "-----------------------------------------\n",
            "estado-de-mexico_municipios_2015.xlsx\n",
            "-----------------------------------------\n",
            "\tHoja: Election\n",
            "\t**_**--**_**--**_**--**_**--**_**\n",
            "\n"
          ],
          "name": "stdout"
        },
        {
          "output_type": "display_data",
          "data": {
            "text/html": [
              "<table border=\"1\" class=\"dataframe\">\n",
              "  <thead>\n",
              "    <tr style=\"text-align: right;\">\n",
              "      <th></th>\n",
              "      <th>State</th>\n",
              "      <th>Year</th>\n",
              "      <th>Election_type</th>\n",
              "      <th>Total_votes</th>\n",
              "      <th>Nominal_list</th>\n",
              "      <th>Computed_transactions</th>\n",
              "      <th>Fidelity</th>\n",
              "    </tr>\n",
              "  </thead>\n",
              "  <tbody>\n",
              "    <tr>\n",
              "      <th>0</th>\n",
              "      <td>int64</td>\n",
              "      <td>int64</td>\n",
              "      <td>object</td>\n",
              "      <td>int64</td>\n",
              "      <td>int64</td>\n",
              "      <td>int64</td>\n",
              "      <td>int64</td>\n",
              "    </tr>\n",
              "  </tbody>\n",
              "</table>"
            ],
            "text/plain": [
              "<IPython.core.display.HTML object>"
            ]
          },
          "metadata": {
            "tags": []
          }
        },
        {
          "output_type": "stream",
          "text": [
            "\n"
          ],
          "name": "stdout"
        },
        {
          "output_type": "display_data",
          "data": {
            "text/html": [
              "<table border=\"1\" class=\"dataframe\">\n",
              "  <thead>\n",
              "    <tr style=\"text-align: right;\">\n",
              "      <th></th>\n",
              "      <th>State</th>\n",
              "      <th>Year</th>\n",
              "      <th>Election_type</th>\n",
              "      <th>Total_votes</th>\n",
              "      <th>Nominal_list</th>\n",
              "      <th>Computed_transactions</th>\n",
              "      <th>Fidelity</th>\n",
              "    </tr>\n",
              "  </thead>\n",
              "  <tbody>\n",
              "    <tr>\n",
              "      <th>0</th>\n",
              "      <td>15</td>\n",
              "      <td>2015</td>\n",
              "      <td>Municipios</td>\n",
              "      <td>5554072</td>\n",
              "      <td>11023636</td>\n",
              "      <td>0</td>\n",
              "      <td>3</td>\n",
              "    </tr>\n",
              "  </tbody>\n",
              "</table>"
            ],
            "text/plain": [
              "<IPython.core.display.HTML object>"
            ]
          },
          "metadata": {
            "tags": []
          }
        },
        {
          "output_type": "stream",
          "text": [
            "\n",
            "-----------------------------------------\n",
            "estado-de-mexico_municipios_2015.xlsx\n",
            "-----------------------------------------\n",
            "\tHoja: Sources\n",
            "\n",
            "\t.   ∞ En total tiene 2 NaN  ∞   . \n",
            "\n",
            "\t\t Conteo por columna:\n",
            "\n",
            "\t\t File              1,\n",
            "\t\t Considerations    1\n",
            "\t**_**--**_**--**_**--**_**--**_**\n",
            "\n"
          ],
          "name": "stdout"
        },
        {
          "output_type": "display_data",
          "data": {
            "text/html": [
              "<table border=\"1\" class=\"dataframe\">\n",
              "  <thead>\n",
              "    <tr style=\"text-align: right;\">\n",
              "      <th></th>\n",
              "      <th>Name</th>\n",
              "      <th>Source</th>\n",
              "      <th>File</th>\n",
              "      <th>Fields</th>\n",
              "      <th>Considerations</th>\n",
              "    </tr>\n",
              "  </thead>\n",
              "  <tbody>\n",
              "    <tr>\n",
              "      <th>0</th>\n",
              "      <td>object</td>\n",
              "      <td>object</td>\n",
              "      <td>float64</td>\n",
              "      <td>object</td>\n",
              "      <td>float64</td>\n",
              "    </tr>\n",
              "  </tbody>\n",
              "</table>"
            ],
            "text/plain": [
              "<IPython.core.display.HTML object>"
            ]
          },
          "metadata": {
            "tags": []
          }
        },
        {
          "output_type": "stream",
          "text": [
            "\n"
          ],
          "name": "stdout"
        },
        {
          "output_type": "display_data",
          "data": {
            "text/html": [
              "<table border=\"1\" class=\"dataframe\">\n",
              "  <thead>\n",
              "    <tr style=\"text-align: right;\">\n",
              "      <th></th>\n",
              "      <th>Name</th>\n",
              "      <th>Source</th>\n",
              "      <th>File</th>\n",
              "      <th>Fields</th>\n",
              "      <th>Considerations</th>\n",
              "    </tr>\n",
              "  </thead>\n",
              "  <tbody>\n",
              "    <tr>\n",
              "      <th>0</th>\n",
              "      <td>Registro histórico de elecciones</td>\n",
              "      <td>https://www.ieem.org.mx/numeralia/result_elect.html</td>\n",
              "      <td>NaN</td>\n",
              "      <td>Election,Candidates,Coalitions,Election_counts</td>\n",
              "      <td>NaN</td>\n",
              "    </tr>\n",
              "  </tbody>\n",
              "</table>"
            ],
            "text/plain": [
              "<IPython.core.display.HTML object>"
            ]
          },
          "metadata": {
            "tags": []
          }
        },
        {
          "output_type": "stream",
          "text": [
            "\n",
            "-----------------------------------------\n",
            "estado-de-mexico_municipios_2015.xlsx\n",
            "-----------------------------------------\n",
            "\tHoja: Candidates\n",
            "\n",
            "\t.   ∞ En total tiene 124 NaN  ∞   . \n",
            "\n",
            "\t\t Conteo por columna:\n",
            "\n",
            "\t\t Affiliation    124\n",
            "\t**_**--**_**--**_**--**_**--**_**\n",
            "\n"
          ],
          "name": "stdout"
        },
        {
          "output_type": "display_data",
          "data": {
            "text/html": [
              "<table border=\"1\" class=\"dataframe\">\n",
              "  <thead>\n",
              "    <tr style=\"text-align: right;\">\n",
              "      <th></th>\n",
              "      <th>ID_Election_count</th>\n",
              "      <th>Candidate</th>\n",
              "      <th>Affiliation</th>\n",
              "      <th>Represents</th>\n",
              "    </tr>\n",
              "  </thead>\n",
              "  <tbody>\n",
              "    <tr>\n",
              "      <th>0</th>\n",
              "      <td>int64</td>\n",
              "      <td>object</td>\n",
              "      <td>float64</td>\n",
              "      <td>object</td>\n",
              "    </tr>\n",
              "  </tbody>\n",
              "</table>"
            ],
            "text/plain": [
              "<IPython.core.display.HTML object>"
            ]
          },
          "metadata": {
            "tags": []
          }
        },
        {
          "output_type": "stream",
          "text": [
            "\n"
          ],
          "name": "stdout"
        },
        {
          "output_type": "display_data",
          "data": {
            "text/html": [
              "<table border=\"1\" class=\"dataframe\">\n",
              "  <thead>\n",
              "    <tr style=\"text-align: right;\">\n",
              "      <th></th>\n",
              "      <th>ID_Election_count</th>\n",
              "      <th>Candidate</th>\n",
              "      <th>Affiliation</th>\n",
              "      <th>Represents</th>\n",
              "    </tr>\n",
              "  </thead>\n",
              "  <tbody>\n",
              "    <tr>\n",
              "      <th>0</th>\n",
              "      <td>1</td>\n",
              "      <td>MA DEL CARMEN MAGDALENA PEÑA MERCADO</td>\n",
              "      <td>NaN</td>\n",
              "      <td>PRI</td>\n",
              "    </tr>\n",
              "    <tr>\n",
              "      <th>1</th>\n",
              "      <td>2</td>\n",
              "      <td>DARIO ZACARIAS CAPUCHINO</td>\n",
              "      <td>NaN</td>\n",
              "      <td>PRI,PVEM,PANAL</td>\n",
              "    </tr>\n",
              "  </tbody>\n",
              "</table>"
            ],
            "text/plain": [
              "<IPython.core.display.HTML object>"
            ]
          },
          "metadata": {
            "tags": []
          }
        },
        {
          "output_type": "stream",
          "text": [
            "\n",
            "-----------------------------------------\n",
            "estado-de-mexico_municipios_2015.xlsx\n",
            "-----------------------------------------\n",
            "\tHoja: Coalitions\n",
            "\t**_**--**_**--**_**--**_**--**_**\n",
            "\n"
          ],
          "name": "stdout"
        },
        {
          "output_type": "display_data",
          "data": {
            "text/html": [
              "<table border=\"1\" class=\"dataframe\">\n",
              "  <thead>\n",
              "    <tr style=\"text-align: right;\">\n",
              "      <th></th>\n",
              "      <th>ID_Election_count</th>\n",
              "      <th>Coalition</th>\n",
              "      <th>Name</th>\n",
              "      <th>Players</th>\n",
              "    </tr>\n",
              "  </thead>\n",
              "  <tbody>\n",
              "    <tr>\n",
              "      <th>0</th>\n",
              "      <td>int64</td>\n",
              "      <td>object</td>\n",
              "      <td>object</td>\n",
              "      <td>object</td>\n",
              "    </tr>\n",
              "  </tbody>\n",
              "</table>"
            ],
            "text/plain": [
              "<IPython.core.display.HTML object>"
            ]
          },
          "metadata": {
            "tags": []
          }
        },
        {
          "output_type": "stream",
          "text": [
            "\n"
          ],
          "name": "stdout"
        },
        {
          "output_type": "display_data",
          "data": {
            "text/html": [
              "<table border=\"1\" class=\"dataframe\">\n",
              "  <thead>\n",
              "    <tr style=\"text-align: right;\">\n",
              "      <th></th>\n",
              "      <th>ID_Election_count</th>\n",
              "      <th>Coalition</th>\n",
              "      <th>Name</th>\n",
              "      <th>Players</th>\n",
              "    </tr>\n",
              "  </thead>\n",
              "  <tbody>\n",
              "    <tr>\n",
              "      <th>0</th>\n",
              "      <td>2</td>\n",
              "      <td>PRI,PVEM,PANAL</td>\n",
              "      <td>De la mano con la gente</td>\n",
              "      <td>PRI,PVEM,PANAL</td>\n",
              "    </tr>\n",
              "    <tr>\n",
              "      <th>1</th>\n",
              "      <td>4</td>\n",
              "      <td>PRI,PVEM,PANAL</td>\n",
              "      <td>De la mano con la gente</td>\n",
              "      <td>PRI,PVEM,PANAL</td>\n",
              "    </tr>\n",
              "  </tbody>\n",
              "</table>"
            ],
            "text/plain": [
              "<IPython.core.display.HTML object>"
            ]
          },
          "metadata": {
            "tags": []
          }
        },
        {
          "output_type": "stream",
          "text": [
            "\n",
            "-----------------------------------------\n",
            "estado-de-mexico_municipios_2015.xlsx\n",
            "-----------------------------------------\n",
            "\tHoja: Election_counts\n",
            "\t**_**--**_**--**_**--**_**--**_**\n",
            "\n"
          ],
          "name": "stdout"
        },
        {
          "output_type": "display_data",
          "data": {
            "text/html": [
              "<table border=\"1\" class=\"dataframe\">\n",
              "  <thead>\n",
              "    <tr style=\"text-align: right;\">\n",
              "      <th></th>\n",
              "      <th>ID</th>\n",
              "      <th>Municipality/District/State</th>\n",
              "      <th>...</th>\n",
              "      <th>....1</th>\n",
              "      <th>....2</th>\n",
              "      <th>Not_reg</th>\n",
              "      <th>Null_votes</th>\n",
              "    </tr>\n",
              "  </thead>\n",
              "  <tbody>\n",
              "    <tr>\n",
              "      <th>0</th>\n",
              "      <td>object</td>\n",
              "      <td>object</td>\n",
              "      <td>object</td>\n",
              "      <td>object</td>\n",
              "      <td>object</td>\n",
              "      <td>object</td>\n",
              "      <td>object</td>\n",
              "    </tr>\n",
              "  </tbody>\n",
              "</table>"
            ],
            "text/plain": [
              "<IPython.core.display.HTML object>"
            ]
          },
          "metadata": {
            "tags": []
          }
        },
        {
          "output_type": "stream",
          "text": [
            "\n"
          ],
          "name": "stdout"
        },
        {
          "output_type": "display_data",
          "data": {
            "text/html": [
              "<table border=\"1\" class=\"dataframe\">\n",
              "  <thead>\n",
              "    <tr style=\"text-align: right;\">\n",
              "      <th></th>\n",
              "      <th>ID</th>\n",
              "      <th>Municipality/District/State</th>\n",
              "      <th>...</th>\n",
              "      <th>....1</th>\n",
              "      <th>....2</th>\n",
              "      <th>Not_reg</th>\n",
              "      <th>Null_votes</th>\n",
              "    </tr>\n",
              "  </thead>\n",
              "  <tbody>\n",
              "  </tbody>\n",
              "</table>"
            ],
            "text/plain": [
              "<IPython.core.display.HTML object>"
            ]
          },
          "metadata": {
            "tags": []
          }
        }
      ]
    },
    {
      "cell_type": "markdown",
      "metadata": {
        "id": "kXXfbYXlu_p0",
        "colab_type": "text"
      },
      "source": [
        "# Sección separar independientes en polling places"
      ]
    },
    {
      "cell_type": "code",
      "metadata": {
        "id": "batK-5hSC7Jg",
        "colab_type": "code",
        "colab": {}
      },
      "source": [
        "import pandas as pd\n",
        "from IPython.display import display, HTML\n",
        "content_books = !ls *.xlsx | tr '\\n' '\\n'"
      ],
      "execution_count": null,
      "outputs": []
    },
    {
      "cell_type": "code",
      "metadata": {
        "id": "tF0D4I1Ztgqi",
        "colab_type": "code",
        "colab": {}
      },
      "source": [
        "def some_column_begin_with(columns, phrase='C. Independiente'):\n",
        "  for column in columns:\n",
        "    if phrase in column:\n",
        "      return True\n",
        "  return False\n",
        "\n",
        "content_books = !ls *.xlsx | tr '\\n' '\\n'"
      ],
      "execution_count": null,
      "outputs": []
    },
    {
      "cell_type": "code",
      "metadata": {
        "id": "l44EnhTIvNYM",
        "colab_type": "code",
        "colab": {
          "base_uri": "https://localhost:8080/",
          "height": 245
        },
        "outputId": "efea2c13-d54d-4961-a6d3-bc0c3f9f78d7"
      },
      "source": [
        "new_computes=[]\n",
        "computes_mun=[]\n",
        "for n in [1]:\n",
        "  for file_name in content_books:\n",
        "    print('----------------......----.....')\n",
        "    print(file_name)\n",
        "    print('----------------......----.....')\n",
        "    sheet_to_df_map = pd.read_excel(file_name, sheet_name=None)\n",
        "    for sheet,data in sheet_to_df_map.items():\n",
        "      if sheet == 'Polling_places':\n",
        "        print()\n",
        "        print(sheet)\n",
        "        print()\n",
        "        my_data = pd.DataFrame(data)\n",
        "        if some_column_begin_with(my_data.columns, \n",
        "                                  phrase='C. Independiente'):\n",
        "          muns=my_data['municipality_id'].unique()\n",
        "          print(muns)\n",
        "          for mun in list(muns):\n",
        "            df_mun = my_data.loc[my_data['municipality_id'] == mun]\n",
        "            #n_independiente='C. Independiente 1'\n",
        "            n_independientes=['C. Independiente 1', 'C. Independiente 2','C. Independiente 3']\n",
        "            for n_independiente in n_independientes:\n",
        "              #if n_independiente in list(df_mun.columns):\n",
        "              suma_ind_n = df_mun[n_independiente].sum()\n",
        "              if suma_ind_n>0:\n",
        "                df_mun[n_independiente +'_'+str(mun)] = df_mun[n_independiente]\n",
        "                #display(HTML(df_mun.head(5).to_html()))\n",
        "              computes_mun=df_mun.to_dict('records')\n",
        "              new_computes.extend(computes_mun)\n"
      ],
      "execution_count": null,
      "outputs": [
        {
          "output_type": "stream",
          "text": [
            "----------------......----.....\n",
            "chihuahua_municipios_2016_polling_place.xlsx\n",
            "----------------......----.....\n",
            "\n",
            "Polling_places\n",
            "\n",
            "[ 1  3  9 14 25 33 47 52 53 56 57 64  4  8 12 18 27 42 48 51 54  2  5  6\n",
            "  7 10 11 13 15 16 17 19 20 21 22 23 24 26 28 29 30 31 32 34 35 36 37 38\n",
            " 39 40 41 43 44 45 46 49 50 55 58 59 60 61 62 63 65 66 67]\n"
          ],
          "name": "stdout"
        },
        {
          "output_type": "stream",
          "text": [
            "/usr/local/lib/python3.6/dist-packages/ipykernel_launcher.py:27: SettingWithCopyWarning: \n",
            "A value is trying to be set on a copy of a slice from a DataFrame.\n",
            "Try using .loc[row_indexer,col_indexer] = value instead\n",
            "\n",
            "See the caveats in the documentation: https://pandas.pydata.org/pandas-docs/stable/user_guide/indexing.html#returning-a-view-versus-a-copy\n"
          ],
          "name": "stderr"
        }
      ]
    },
    {
      "cell_type": "code",
      "metadata": {
        "id": "vl0HkW1VSV5o",
        "colab_type": "code",
        "colab": {}
      },
      "source": [
        "from openpyxl import load_workbook\n",
        "def add_new_sheet(name_book,df,name_sheet):\n",
        "  ''' add new sheet, if the sheet exists it will be overwritten'''\n",
        "  book = load_workbook(name_book)\n",
        "  writer = pd.ExcelWriter(name_book, engine = 'openpyxl', mode='w')\n",
        "  writer.book = book\n",
        "  writer.sheets = dict((ws.title, ws) for ws in book.worksheets) \n",
        "  #print(writer.sheets) \n",
        "  df.to_excel(writer, sheet_name = name_sheet, index=False)\n",
        "  writer.save()\n",
        "  writer.close()"
      ],
      "execution_count": null,
      "outputs": []
    },
    {
      "cell_type": "markdown",
      "metadata": {
        "id": "Wd4jNhypdliD",
        "colab_type": "text"
      },
      "source": [
        ""
      ]
    },
    {
      "cell_type": "code",
      "metadata": {
        "id": "ZVL273-_RD20",
        "colab_type": "code",
        "colab": {}
      },
      "source": [
        "new_data=pd.DataFrame(new_computes)\n",
        "new_data=new_data.fillna(0)\n",
        "new_data=new_data.astype(int)\n",
        "\n",
        "new_data.to_excel('chihuahua_municipios_2016_polling_place_split.xlsx')\n",
        "add_new_sheet('chihuahua_municipios_2016_polling_place.xlsx', new_data, 'Polling_places_split_ind'  )"
      ],
      "execution_count": null,
      "outputs": []
    },
    {
      "cell_type": "markdown",
      "metadata": {
        "id": "L_kZEJKqBLFW",
        "colab_type": "text"
      },
      "source": [
        "## SECCIÓN 1: DEFINIR BIBLIOTECAS Y ARCHIVOS"
      ]
    },
    {
      "cell_type": "code",
      "metadata": {
        "id": "VltbV4hovNH-",
        "colab_type": "code",
        "cellView": "both",
        "colab": {}
      },
      "source": [
        "#@title Importamos bibliotecas\n",
        "import pandas as pd\n",
        "import numpy as np\n",
        "from openpyxl import load_workbook"
      ],
      "execution_count": null,
      "outputs": []
    },
    {
      "cell_type": "code",
      "metadata": {
        "id": "Yxh3aZs_78Sa",
        "colab_type": "code",
        "cellView": "both",
        "colab": {}
      },
      "source": [
        "#@title Definir funciones a usar\n",
        "def add_new_sheet_index(name_book,df,name_sheet):\n",
        "  ''' add new sheet, if the sheet exists new sheet with other index will be created'''\n",
        "  book = load_workbook(name_book)\n",
        "  writer = pd.ExcelWriter(name_book, engine = 'openpyxl', mode='w')\n",
        "  writer.book = book\n",
        "  df.to_excel(writer, sheet_name = name_sheet, index=False)\n",
        "  writer.save()\n",
        "  writer.close()\n",
        "\n",
        "def add_new_sheet(name_book,df,name_sheet):\n",
        "  ''' add new sheet, if the sheet exists it will be overwritten'''\n",
        "  book = load_workbook(name_book)\n",
        "  writer = pd.ExcelWriter(name_book, engine = 'openpyxl', mode='w')\n",
        "  writer.book = book\n",
        "  writer.sheets = dict((ws.title, ws) for ws in book.worksheets) \n",
        "  #print(writer.sheets) \n",
        "  df.to_excel(writer, sheet_name = name_sheet, index=False)\n",
        "  writer.save()\n",
        "  writer.close()\n",
        "\n",
        "def types_columns_unique(types_dataframe):\n",
        "  ''' generate a set of types columns from columns dataframe'''\n",
        "  return ','.join(map(str, set(list(types_dataframe))))\n",
        "\n",
        "\n",
        "def adjust_integers(content_books, sheet_name, new_sheet_name, regex_pattern_aditional=r'^-*$|^o+$|^O+$'):\n",
        "  ''' Try to convert all columns in a sheet_name to integer, \n",
        "      from each book in content_books '''\n",
        "  all_columns_integer={}\n",
        "  print(f'\\nSe creará NUEVA HOJA \"{new_sheet_name}\" para cada uno de los archivos siguientes, con los ajustes que se muestran en summary')\n",
        "  for book in content_books:\n",
        "    sustituir_vacios = True\n",
        "    original_all_numbers = False\n",
        "    all_columns_integer[book]={}\n",
        "    print('\\n\\nLeyendo Libro:',book)\n",
        "    df_temp = pd.read_excel(book,sheet_name=sheet_name)\n",
        "    try:\n",
        "      df_temp = df_temp.astype(int, errors='raise')\n",
        "      sustituir_vacios = False\n",
        "      original_all_numbers = True\n",
        "    except ValueError as e:\n",
        "      print('\\n\\tAVISO: Se encontraron valores que no se pueden convertir a entero directamente...')\n",
        "      #print('\\n\\t\\t!Info error 1:',e)\n",
        "      all_columns_integer[book]['integer'] = False\n",
        "    if sustituir_vacios:\n",
        "      try:\n",
        "        df_temp=df_temp.replace(r'^\\s*$', 0, regex=True).replace(regex_pattern_aditional, 0, regex=True)\n",
        "        #print(f'\\n\\tTRATAREMOS de SUSTITUIR valores VACÍOS, y los que cumplan este PATRÓN: {regex_pattern_aditional} por ceros')\n",
        "      except ValueError as e:\n",
        "        print('\\n\\tAVISO: Algún valor NO SE PUDO SUSTITUIR por 0\\'s \\:\\( ')\n",
        "        #print ('\\n\\t\\t!Info error 2:',e)\n",
        "    df_temp=df_temp.fillna(0)\n",
        "\n",
        "    try:\n",
        "      df_temp = df_temp.astype(int, errors='raise')\n",
        "      all_columns_integer[book]['integer'] = True\n",
        "    except ValueError as e:\n",
        "      print('\\n\\tAVISO: Existe algún valor que no se puede convertir a entero :S')\n",
        "      #print('\\n\\t\\t!Info error 3', e)\n",
        "      all_columns_integer[book]['integer'] = False\n",
        "    \n",
        "    all_columns_integer[book]['original_all_numbers'] = original_all_numbers\n",
        "    all_columns_integer[book]['types_unique'] = types_columns_unique(df_temp.dtypes)\n",
        "\n",
        "    g = dict(df_temp.columns.to_series().groupby(df_temp.dtypes).groups)   \n",
        "    types_columns={}\n",
        "\n",
        "    for k,v in g.items():\n",
        "      if not 'int' in (str(k)):\n",
        "        types_columns[str(k)]=','.join(list(v))\n",
        "\n",
        "    if not all_columns_integer[book]['integer']:\n",
        "      print('\\n\\tAVISO: Intenta un proceso individual para cada columna ...')\n",
        "    types_columns.update({'book':book.split('.')[0]})\n",
        "    all_columns_integer[book]['types_by_column'] = types_columns\n",
        "    add_new_sheet(name_book=book,df=df_temp,name_sheet=new_sheet_name)\n",
        "\n",
        "\n",
        "  print('\\nFin del proceso :)')\n",
        "  return all_columns_integer\n"
      ],
      "execution_count": null,
      "outputs": []
    },
    {
      "cell_type": "code",
      "metadata": {
        "id": "XM9spDcV_rsO",
        "colab_type": "code",
        "cellView": "both",
        "colab": {}
      },
      "source": [
        "#@title Leemos cuales son los archivos con terminación xlsx\n",
        "content_books = !ls *.xlsx | tr '\\n' '\\n'"
      ],
      "execution_count": null,
      "outputs": []
    },
    {
      "cell_type": "markdown",
      "metadata": {
        "id": "GFbZYH_L_w3L",
        "colab_type": "text"
      },
      "source": [
        "## SECCIÓN 2: CONVERSIÓN ENTEROS \n",
        "######  \n",
        "\n",
        "*   Modifica a integer los valores de las columnas\n",
        "*   De no ser posible la conversión, intenta reemplazar a 0's espacios en blanco y los que cumplan con un patrón regular.\n",
        "*   En el mismo archivo agrega una hoja nueva 'Polling_places_corrections'"
      ]
    },
    {
      "cell_type": "code",
      "metadata": {
        "id": "XnsG09fsdRUN",
        "colab_type": "code",
        "cellView": "both",
        "colab": {
          "base_uri": "https://localhost:8080/",
          "height": 228
        },
        "outputId": "25c1705f-2314-431e-fb49-1b6fcaafd6a7"
      },
      "source": [
        "#@title Column to Integer Conversion Proccess\n",
        "all_columns_integer = adjust_integers(content_books = content_books, \n",
        "                                    sheet_name = 'Polling_places', \n",
        "                                    new_sheet_name = 'Polling_places_corrections',\n",
        "                                    regex_pattern_aditional = r'^-*$|^o+$|^O+$|^/+$')\n"
      ],
      "execution_count": null,
      "outputs": [
        {
          "output_type": "stream",
          "text": [
            "\n",
            "Se creará NUEVA HOJA \"Polling_places_corrections\" para cada uno de los archivos siguientes, con los ajustes que se muestran en summary\n",
            "\n",
            "\n",
            "Leyendo Libro: aguascalientes_diputados_2013_polling_place.xlsx\n",
            "\n",
            "\n",
            "Leyendo Libro: baja-california_municipios_2013_polling_place (4).xlsx\n",
            "\n",
            "\n",
            "Leyendo Libro: baja-california_municipios_2016_polling_place.xlsx\n",
            "\n",
            "Fin del proceso :)\n"
          ],
          "name": "stdout"
        }
      ]
    },
    {
      "cell_type": "code",
      "metadata": {
        "id": "bTuKjgOiNbSx",
        "colab_type": "code",
        "cellView": "both",
        "colab": {
          "base_uri": "https://localhost:8080/",
          "height": 133
        },
        "outputId": "7fd09404-601d-42d3-e7a9-633e531fae66"
      },
      "source": [
        "#@title Summary Conversion Integers\n",
        "df = pd.DataFrame([[key.split('.')[0],value['integer'],value['original_all_numbers'], value['types_unique']] for key,value in all_columns_integer.items()], columns=['name_book', 'Finally Integer?','Began with numbers?', 'Types unique'])\n",
        "df"
      ],
      "execution_count": null,
      "outputs": [
        {
          "output_type": "execute_result",
          "data": {
            "text/html": [
              "<div>\n",
              "<style scoped>\n",
              "    .dataframe tbody tr th:only-of-type {\n",
              "        vertical-align: middle;\n",
              "    }\n",
              "\n",
              "    .dataframe tbody tr th {\n",
              "        vertical-align: top;\n",
              "    }\n",
              "\n",
              "    .dataframe thead th {\n",
              "        text-align: right;\n",
              "    }\n",
              "</style>\n",
              "<table border=\"1\" class=\"dataframe\">\n",
              "  <thead>\n",
              "    <tr style=\"text-align: right;\">\n",
              "      <th></th>\n",
              "      <th>name_book</th>\n",
              "      <th>Finally Integer?</th>\n",
              "      <th>Began with numbers?</th>\n",
              "      <th>Types unique</th>\n",
              "    </tr>\n",
              "  </thead>\n",
              "  <tbody>\n",
              "    <tr>\n",
              "      <th>0</th>\n",
              "      <td>aguascalientes_diputados_2013_polling_place</td>\n",
              "      <td>True</td>\n",
              "      <td>True</td>\n",
              "      <td>int64</td>\n",
              "    </tr>\n",
              "    <tr>\n",
              "      <th>1</th>\n",
              "      <td>baja-california_municipios_2013_polling_place (4)</td>\n",
              "      <td>True</td>\n",
              "      <td>True</td>\n",
              "      <td>int64</td>\n",
              "    </tr>\n",
              "    <tr>\n",
              "      <th>2</th>\n",
              "      <td>baja-california_municipios_2016_polling_place</td>\n",
              "      <td>True</td>\n",
              "      <td>True</td>\n",
              "      <td>int64</td>\n",
              "    </tr>\n",
              "  </tbody>\n",
              "</table>\n",
              "</div>"
            ],
            "text/plain": [
              "                                           name_book  ...  Types unique\n",
              "0  aguascalientes_diputados_2013_polling_place        ...  int64       \n",
              "1  baja-california_municipios_2013_polling_place (4)  ...  int64       \n",
              "2  baja-california_municipios_2016_polling_place      ...  int64       \n",
              "\n",
              "[3 rows x 4 columns]"
            ]
          },
          "metadata": {
            "tags": []
          },
          "execution_count": 36
        }
      ]
    },
    {
      "cell_type": "markdown",
      "metadata": {
        "id": "05t8WKJGqcJq",
        "colab_type": "text"
      },
      "source": [
        "## Sección Suggest changes in columns cells"
      ]
    },
    {
      "cell_type": "code",
      "metadata": {
        "id": "6A1N4ZasGqom",
        "colab_type": "code",
        "cellView": "both",
        "colab": {
          "base_uri": "https://localhost:8080/",
          "height": 32
        },
        "outputId": "83a2e15f-30c0-40c6-88a6-4bebd7794452"
      },
      "source": [
        "#@title Summary Columns cannot convert to Integers in a book\n",
        "columnas_not_int=pd.DataFrame([v['types_by_column'] for v in all_columns_integer.values() if not v['integer']])\n",
        "pd.set_option('display.max_colwidth', 0)\n",
        "columnas_not_int\n"
      ],
      "execution_count": null,
      "outputs": [
        {
          "output_type": "execute_result",
          "data": {
            "text/html": [
              "<div>\n",
              "<style scoped>\n",
              "    .dataframe tbody tr th:only-of-type {\n",
              "        vertical-align: middle;\n",
              "    }\n",
              "\n",
              "    .dataframe tbody tr th {\n",
              "        vertical-align: top;\n",
              "    }\n",
              "\n",
              "    .dataframe thead th {\n",
              "        text-align: right;\n",
              "    }\n",
              "</style>\n",
              "<table border=\"1\" class=\"dataframe\">\n",
              "  <thead>\n",
              "    <tr style=\"text-align: right;\">\n",
              "      <th></th>\n",
              "    </tr>\n",
              "  </thead>\n",
              "  <tbody>\n",
              "  </tbody>\n",
              "</table>\n",
              "</div>"
            ],
            "text/plain": [
              "Empty DataFrame\n",
              "Columns: []\n",
              "Index: []"
            ]
          },
          "metadata": {
            "tags": []
          },
          "execution_count": 37
        }
      ]
    },
    {
      "cell_type": "code",
      "metadata": {
        "id": "y1w9360Rfq1-",
        "colab_type": "code",
        "cellView": "both",
        "colab": {
          "base_uri": "https://localhost:8080/",
          "height": 66
        },
        "outputId": "e1ac5d8f-1c77-4241-eabb-50416d1d82d5"
      },
      "source": [
        "#@title Proccess to suggest changes in columns\n",
        "def fix_multiple_types(n): \n",
        "    import re\n",
        "    tipo=str(type(n))\n",
        "    x=n\n",
        "    if 'int' in tipo:\n",
        "      return n\n",
        "    if 'str' in tipo:\n",
        "      numbers_patron = re.compile(r\"[\\d]\", re.X)\n",
        "      number=''.join(numbers_patron.findall(n))\n",
        "      try: \n",
        "        n=int(number)\n",
        "        print( '\\t\\t\\tAhora: ',str(type(n)), str(n), '\\tAntes:', tipo, str(x))\n",
        "        return n\n",
        "      except:\n",
        "        pass\n",
        "    elif 'float' in tipo:\n",
        "      if n >= 0:\n",
        "        n=int(n)\n",
        "        return n\n",
        "    print('\\t\\t\\tAhora:', str(type(0)),str(0), '\\tAntes:', str(type(x)), str(x))\n",
        "    return 0\n",
        "\n",
        "def fix_multiple_types_suggest_columns(n): \n",
        "    import re\n",
        "    tipo=str(type(n))\n",
        "    x=n\n",
        "    if 'int' in tipo:\n",
        "      return n\n",
        "    if 'str' in tipo:\n",
        "      numbers_patron = re.compile(r\"[\\d]\", re.X)\n",
        "      number=''.join(numbers_patron.findall(n))\n",
        "      try: \n",
        "        n=int(number)\n",
        "        n=''.join(['Ahora: ',str(type(n)),' ', str(n), ' Antes: ', tipo, str(x)])\n",
        "        return n\n",
        "      except:\n",
        "        pass\n",
        "    elif 'float' in tipo:\n",
        "      if n >= 0:\n",
        "        n=int(n)\n",
        "        return n\n",
        "    return ''.join(['Ahora: ', str(type(0)),' ', str(0), ' Antes: ', str(type(x)), str(x)])\n",
        "   \n",
        "\n",
        "for k,v in all_columns_integer.items():\n",
        "  df_temp_columns_suggest = pd.read_excel(k,sheet_name='Polling_places')\n",
        "  df_temp_sheet_suggest = pd.read_excel(k,sheet_name='Polling_places')\n",
        "\n",
        "  print('LIBRO:',k,'\\t')\n",
        " \n",
        "  if not v['integer']:\n",
        "    for key, tipos in v['types_by_column'].items():\n",
        "      if key == 'book':\n",
        "        continue\n",
        "      print('TIPO:',key)\n",
        "      \n",
        "      for c in tipos.split(','):\n",
        "        print('\\n\\tColumna:\\n\\t',c,'\\n')\n",
        "        df_temp_sheet_suggest[c]=list(map(fix_multiple_types,list(df_temp_sheet_suggest[c])))\n",
        "        #df_temp_columns_suggest[c+'suggested']= df_temp_columns_suggest[c].map(fix_multiple_types_suggest_columns)\n",
        "        df_temp_columns_suggest[c]= df_temp_columns_suggest[c].map(fix_multiple_types_suggest_columns)\n",
        "\n",
        "    df_temp_sheet_suggest.astype(int, errors='ignore')\n",
        "    df_temp_columns_suggest.astype(int, errors='ignore')\n",
        "    \n",
        "\n",
        "    add_new_sheet(name_book=k,df=df_temp_sheet_suggest,name_sheet='Polling_places_corrections')\n",
        "    add_new_sheet(name_book=k,df=df_temp_columns_suggest,name_sheet='Polling_places_suggested')\n"
      ],
      "execution_count": null,
      "outputs": [
        {
          "output_type": "stream",
          "text": [
            "LIBRO: aguascalientes_diputados_2013_polling_place.xlsx \t\n",
            "LIBRO: baja-california_municipios_2013_polling_place (4).xlsx \t\n",
            "LIBRO: baja-california_municipios_2016_polling_place.xlsx \t\n"
          ],
          "name": "stdout"
        }
      ]
    },
    {
      "cell_type": "markdown",
      "metadata": {
        "id": "MLetwF-Zq5z4",
        "colab_type": "text"
      },
      "source": [
        "## SECCION VER HOJA ELECCION"
      ]
    },
    {
      "cell_type": "code",
      "metadata": {
        "id": "4ZFvKeiCq5Et",
        "colab_type": "code",
        "cellView": "form",
        "colab": {
          "base_uri": "https://localhost:8080/",
          "height": 163
        },
        "outputId": "84e71a28-a952-46b2-cc0a-4da38c410be1"
      },
      "source": [
        "#@title Comprobar hoja election\n",
        "columnas_plantilla_election1=['State','Year','Election_type','Total_votes','Nominal_list','Computed_transactions','Fidelity']\n",
        "#columnas_plantilla_election=['State','Year','Election_type','Total_votes','Nominal_list','Computed_transactions','Fidelity']\n",
        "#columnas_plantilla_Polling_places=['section_id', 'local_disctrict_id', 'municipality_id', 'state_id','Not_reg','Null_votes']\n",
        "columnas_plantilla_election=set(['State','Year','Election_type','Total_votes','Nominal_list','Computed_transactions','Fidelity'])\n",
        "lista_elections=[]\n",
        "dicc_election={}\n",
        "\n",
        "for k in content_books:\n",
        "  print(k)\n",
        "  xls = pd.ExcelFile(k)\n",
        "  if  not 'Election' in xls.sheet_names:\n",
        "    print('\\n\\tNo existe Election')\n",
        "    continue\n",
        "\n",
        "\n",
        "  data_election=pd.read_excel(k,sheet_name='Election')\n",
        "  \n",
        "\n",
        "  dicc_election['book']=k\n",
        "  columnas_hoja_election=set(data_election.columns)\n",
        "\n",
        "  if  not columnas_plantilla_election-columnas_hoja_election:\n",
        "    print('\\n\\tColumnas igual a la plantilla!')\n",
        "    header_equal=True\n",
        "  else:\n",
        "    print('Falta al menos una columna con respecto a la plantilla')\n",
        "    header_equal=False\n",
        "\n",
        "  dicc_election['header_equal']=header_equal\n",
        "\n",
        "  dicc_election['types_column']=list(data_election.dtypes)\n",
        "  dicc_election['values_fila']=list(data_election.iloc[0])\n",
        "  lista_elections.append(dicc_election)\n",
        "  dicc_election['total_values']=len(data_election.iloc[0])\n",
        "  dicc_election['total_header']=len(data_election.iloc[0])\n",
        "\n",
        "\n",
        "\n"
      ],
      "execution_count": null,
      "outputs": [
        {
          "output_type": "stream",
          "text": [
            "aguascalientes_diputados_2013_polling_place.xlsx\n",
            "\n",
            "\tColumnas igual a la plantilla!\n",
            "baja-california_municipios_2013_polling_place (4).xlsx\n",
            "\n",
            "\tColumnas igual a la plantilla!\n",
            "baja-california_municipios_2016_polling_place.xlsx\n",
            "\n",
            "\tColumnas igual a la plantilla!\n"
          ],
          "name": "stdout"
        }
      ]
    },
    {
      "cell_type": "code",
      "metadata": {
        "id": "cEt0PZWzSgsx",
        "colab_type": "code",
        "colab": {
          "base_uri": "https://localhost:8080/",
          "height": 212
        },
        "outputId": "2985ac12-d8ed-46d7-fda5-ffd9c9e6ba9b"
      },
      "source": [
        "dicc_election"
      ],
      "execution_count": null,
      "outputs": [
        {
          "output_type": "execute_result",
          "data": {
            "text/plain": [
              "{'book': 'baja-california_municipios_2016_polling_place.xlsx',\n",
              " 'header_equal': True,\n",
              " 'total_header': 7,\n",
              " 'total_values': 7,\n",
              " 'types_column': [dtype('int64'),\n",
              "  dtype('int64'),\n",
              "  dtype('O'),\n",
              "  dtype('int64'),\n",
              "  dtype('int64'),\n",
              "  dtype('int64'),\n",
              "  dtype('int64')],\n",
              " 'values_fila': [2, 2016, 'Municipios', 833160, 2570078, 0, 3]}"
            ]
          },
          "metadata": {
            "tags": []
          },
          "execution_count": 45
        }
      ]
    },
    {
      "cell_type": "code",
      "metadata": {
        "id": "_0puJZTDW7re",
        "colab_type": "code",
        "colab": {
          "base_uri": "https://localhost:8080/",
          "height": 131
        },
        "outputId": "34b25bc9-359f-496c-dbaf-9923ab2752a5"
      },
      "source": [
        "columnas_plantilla_election1"
      ],
      "execution_count": null,
      "outputs": [
        {
          "output_type": "execute_result",
          "data": {
            "text/plain": [
              "['State',\n",
              " 'Year',\n",
              " 'Election_type',\n",
              " 'Total_votes',\n",
              " 'Nominal_list',\n",
              " 'Computed_transactions',\n",
              " 'Fidelity']"
            ]
          },
          "metadata": {
            "tags": []
          },
          "execution_count": 46
        }
      ]
    },
    {
      "cell_type": "code",
      "metadata": {
        "id": "eoXK4OafwUUO",
        "colab_type": "code",
        "cellView": "both",
        "colab": {
          "base_uri": "https://localhost:8080/",
          "height": 125
        },
        "outputId": "6f6c2de9-471e-4dd5-990f-40ce9c1dccbe"
      },
      "source": [
        "#@title Election summary\n",
        "df_=pd.DataFrame([dicc_election['types_column'],dicc_election['values_fila'] ], index=['types','values'],columns=columnas_plantilla_election1)\n",
        "df_"
      ],
      "execution_count": null,
      "outputs": [
        {
          "output_type": "execute_result",
          "data": {
            "text/html": [
              "<div>\n",
              "<style scoped>\n",
              "    .dataframe tbody tr th:only-of-type {\n",
              "        vertical-align: middle;\n",
              "    }\n",
              "\n",
              "    .dataframe tbody tr th {\n",
              "        vertical-align: top;\n",
              "    }\n",
              "\n",
              "    .dataframe thead th {\n",
              "        text-align: right;\n",
              "    }\n",
              "</style>\n",
              "<table border=\"1\" class=\"dataframe\">\n",
              "  <thead>\n",
              "    <tr style=\"text-align: right;\">\n",
              "      <th></th>\n",
              "      <th>State</th>\n",
              "      <th>Year</th>\n",
              "      <th>Election_type</th>\n",
              "      <th>Total_votes</th>\n",
              "      <th>Nominal_list</th>\n",
              "      <th>Computed_transactions</th>\n",
              "      <th>Fidelity</th>\n",
              "    </tr>\n",
              "  </thead>\n",
              "  <tbody>\n",
              "    <tr>\n",
              "      <th>types</th>\n",
              "      <td>int64</td>\n",
              "      <td>int64</td>\n",
              "      <td>object</td>\n",
              "      <td>int64</td>\n",
              "      <td>int64</td>\n",
              "      <td>int64</td>\n",
              "      <td>int64</td>\n",
              "    </tr>\n",
              "    <tr>\n",
              "      <th>values</th>\n",
              "      <td>2</td>\n",
              "      <td>2016</td>\n",
              "      <td>Municipios</td>\n",
              "      <td>833160</td>\n",
              "      <td>2570078</td>\n",
              "      <td>0</td>\n",
              "      <td>3</td>\n",
              "    </tr>\n",
              "  </tbody>\n",
              "</table>\n",
              "</div>"
            ],
            "text/plain": [
              "        State   Year Election_type  ... Nominal_list Computed_transactions Fidelity\n",
              "types   int64  int64  object        ...  int64        int64                 int64  \n",
              "values  2      2016   Municipios    ...  2570078      0                     3      \n",
              "\n",
              "[2 rows x 7 columns]"
            ]
          },
          "metadata": {
            "tags": []
          },
          "execution_count": 47
        }
      ]
    },
    {
      "cell_type": "markdown",
      "metadata": {
        "id": "hWpqbwXsAJ87",
        "colab_type": "text"
      },
      "source": [
        "## SECCIÓN 3: EDICIÓN DE NOMBRES DE COLUMNAS"
      ]
    },
    {
      "cell_type": "code",
      "metadata": {
        "id": "OQ0KfIEHyey3",
        "colab_type": "code",
        "cellView": "form",
        "colab": {}
      },
      "source": [
        "#@title Definir funciones a usar\n",
        "def reemplazar_nombres_columnas(df_temp, reemplazar):\n",
        "  '''Recibe un nuevo nombre de columna y lo reemplaza por una anteriormente dado'''\n",
        "  \n",
        "  if reemplazar == 'Y':\n",
        "\n",
        "    print(\"\\t¿Cuál es nombre de columna a reemplazar? \", end=\"\")\n",
        "    columna_anterior = input()\n",
        "    print(\"\\t¿Cuál es el nuevo nombre de columna?\", end=\"\")\n",
        "    columna_nueva = input()\n",
        "    print(f\"\\n\\tSe reemplazará: {columna_anterior} por {columna_nueva}\")\n",
        "\n",
        "    if columna_anterior in df_temp.columns and columna_nueva:\n",
        "  \n",
        "      df_temp.rename(columns={ columna_anterior :columna_nueva},inplace=True)\n",
        "      \n",
        "      print ('\\n\\tREEMPLAZO LISTO!\\n')\n",
        "      print('\\n\\tESTAS SON LAS COLUMNAS AHORA:\\n\\n\\t',df_temp.columns)\n",
        "    else:\n",
        "      print(f'{columna_anterior} No es una columna existente! y/o recuerda agregar el texto por el cual sustituir')\n",
        "\n",
        "  print('\\n\\t ¿Deseas reemplazar el nombre de otra columna? (Y/N)')\n",
        "  reemplazar = input()\n",
        "\n",
        "  if reemplazar == 'Y':\n",
        "    df_temp=reemplazar_nombres_columnas(df_temp, reemplazar)\n",
        "    print('\\tSe actualizará el nombre de la columna en el archivo de excel')\n",
        "  else:\n",
        "    print('\\tFinalizando edición de columnas de este archivo...')\n",
        "\n",
        "  return df_temp\n",
        "\n",
        "\n",
        "def rename_columns(content_books=[], sheet_name='Polling_places_corrections'):\n",
        "  '''Reads the name and renames certain columns of a sheet'''\n",
        "  for book in content_books:\n",
        "\n",
        "    print('\\n\\nNOMBRE DEL ARCHIVO:',book)\n",
        "    df_temp=pd.read_excel(book,sheet_name=sheet_name)\n",
        "    print('\\n\\n\\tESTAS SON LAS COLUMNAS PRESENTES:\\n\\n')\n",
        "    print('\\t',df_temp.columns)\n",
        "    print('\\n\\t¿Deseas reemplazar el nombre de alguna columna? (Y/N)')\n",
        "\n",
        "    reemplazar = input()\n",
        "\n",
        "    if reemplazar == 'Y': \n",
        "      df_temp = reemplazar_nombres_columnas(df_temp,reemplazar)\n",
        "      add_new_sheet(name_book=book,df=df_temp,name_sheet=sheet_name)\n",
        "      print('\\tSe actualizó el nombre de la columna en el archivo de excel')\n",
        "    else:\n",
        "      if reemplazar == 'N':\n",
        "        print('\\tBye!')\n",
        "      else:\n",
        "        print('\\tOpción no válida, pasaremos al siguiente archivo...')\n",
        "\n",
        "  return print('\\nProceso finalizado :D')"
      ],
      "execution_count": null,
      "outputs": []
    },
    {
      "cell_type": "code",
      "metadata": {
        "id": "riLM0ZDc1Snv",
        "colab_type": "code",
        "cellView": "form",
        "colab": {
          "base_uri": "https://localhost:8080/",
          "height": 882
        },
        "outputId": "42d5230b-d767-41ea-f335-388798ffcc3d"
      },
      "source": [
        "#@title Proccess to help us to rename columns\n",
        "rename_columns(content_books=content_books, sheet_name='Polling_places_corrections')"
      ],
      "execution_count": null,
      "outputs": [
        {
          "output_type": "stream",
          "text": [
            "\n",
            "\n",
            "NOMBRE DEL ARCHIVO: aguascalientes_diputados_2013_polling_place.xlsx\n",
            "\n",
            "\n",
            "\tESTAS SON LAS COLUMNAS PRESENTES:\n",
            "\n",
            "\n",
            "\t Index(['section_id', 'local_district_id', 'municipality_id', 'state_id', 'PAN',\n",
            "       'PRI', 'PRD', 'PT', 'PVEM', 'MC', 'PANAL', 'PAN,PRD', 'PRI,PVEM',\n",
            "       'Not_reg', 'Null_votes'],\n",
            "      dtype='object')\n",
            "\n",
            "\t¿Deseas reemplazar el nombre de alguna columna? (Y/N)\n",
            "N\n",
            "\tBye!\n",
            "\n",
            "\n",
            "NOMBRE DEL ARCHIVO: baja-california_municipios_2013_polling_place (4).xlsx\n",
            "\n",
            "\n",
            "\tESTAS SON LAS COLUMNAS PRESENTES:\n",
            "\n",
            "\n",
            "\t Index(['section_id', 'local_district_id', 'municipality_id', 'state_id', 'MC',\n",
            "       'PAN,PRD,PANAL,PBC', 'PRI,PVEM,PES,PT', 'Not_reg', 'Null_votes'],\n",
            "      dtype='object')\n",
            "\n",
            "\t¿Deseas reemplazar el nombre de alguna columna? (Y/N)\n",
            "N\n",
            "\tBye!\n",
            "\n",
            "\n",
            "NOMBRE DEL ARCHIVO: baja-california_municipios_2016_polling_place.xlsx\n",
            "\n",
            "\n",
            "\tESTAS SON LAS COLUMNAS PRESENTES:\n",
            "\n",
            "\n",
            "\t Index(['section_id', 'local_district_id', 'municipality_id', 'state_id', 'PAN',\n",
            "       'PRI', 'PRD', 'PT', 'PH', 'PVEM', 'PBC', 'PANAL', 'PES', 'MC', 'MORENA',\n",
            "       'PPCS', 'PMBC', 'PRI,PVEM,PT,PANAL', 'PRI,PVEM,PT', 'PRI,PT,PANAL',\n",
            "       'PRI,PVEM,PANAL', 'PVEM,PT,PANAL', 'PRI,PT', 'PRI,PVEM', 'PRI,PANAL',\n",
            "       'PT,PVEM', 'PT,PANAL', 'PVEM,PANAL', 'C. Independiente 1',\n",
            "       'C. Independiente 2', 'C. Independiente 3', 'Not_reg', 'Null_votes'],\n",
            "      dtype='object')\n",
            "\n",
            "\t¿Deseas reemplazar el nombre de alguna columna? (Y/N)\n",
            "N\n",
            "\tBye!\n",
            "\n",
            "Proceso finalizado :D\n"
          ],
          "name": "stdout"
        }
      ]
    },
    {
      "cell_type": "code",
      "metadata": {
        "id": "f_O_ubWOiRXH",
        "colab_type": "code",
        "colab": {}
      },
      "source": [
        ""
      ],
      "execution_count": null,
      "outputs": []
    },
    {
      "cell_type": "markdown",
      "metadata": {
        "id": "lqiNQ1muzUn_",
        "colab_type": "text"
      },
      "source": [
        "## SECCIÓN 4: EVALUACIÓN CONTINUIDAD DISTRITOS"
      ]
    },
    {
      "cell_type": "code",
      "metadata": {
        "id": "z_-Lf0py0amh",
        "colab_type": "code",
        "cellView": "form",
        "colab": {}
      },
      "source": [
        "#@title Definir funciones a usar\n",
        "def continuidad_columna(content_books=[], \n",
        "                        sheet_name='Polling_places_corrections',\n",
        "                        column_to_evaluate='local_district_id'\n",
        "                        ):\n",
        "  ''' Evaluá si existe continuidad en columma determinada de una hoja del libro dada, compromando que sea vacía la diferencia simétrica'''\n",
        "  evaluacion_distritos={}\n",
        "\n",
        "  print ('\\nPara todos los archivos siguientes se evaluará la hoja:',sheet_name,'y la columna:' ,column_to_evaluate)\n",
        "  for book in content_books:\n",
        "\n",
        "    print('\\nLibro:',book)\n",
        "    evaluacion_distritos[book]={}\n",
        "\n",
        "    df_temp = pd.read_excel(book,sheet_name=sheet_name)\n",
        "\n",
        "    _df=df_temp.agg({column_to_evaluate:['max','min']})\n",
        "    #print('MIN Y MAX de DISTRITOS:\\n\\n',_df)\n",
        "    _unicos = df_temp[column_to_evaluate].unique()\n",
        "    #print(f'\\n\\tValores UNICOS presentes en la columna {column_to_evaluate}:\\n\\n\\t',_unicos)\n",
        "\n",
        "    evaluacion_distritos[book]['min'] = _df[column_to_evaluate]['min']\n",
        "    evaluacion_distritos[book]['max'] = _df[column_to_evaluate]['max']\n",
        "    #evaluacion_distritos[book]['count'] = _df[column_to_evaluate]['count']\n",
        "    evaluacion_distritos[book]['shape']= df_temp.shape\n",
        "    evaluacion_distritos[book]['size']= df_temp.size\n",
        "\n",
        "    a = set(_unicos)\n",
        "    b = set(np.arange(evaluacion_distritos[book]['min'],evaluacion_distritos[book]['max'] + 1))\n",
        "    c = a^b\n",
        "\n",
        "    if c:\n",
        "      print(f'\\n\\tAviso! Conjunto de ID DIFERENTES entre Lista Generada de Continuos y la columna {column_to_evaluate} :\\n\\n\\t', c)\n",
        "    else:\n",
        "      print(f'\\tWuju! Los {column_to_evaluate} archivo son continuos!\\n')\n",
        "    \n",
        "    evaluacion_distritos[book]['diferencia']=\", \".join(map(str,c))\n",
        "  return evaluacion_distritos"
      ],
      "execution_count": null,
      "outputs": []
    },
    {
      "cell_type": "code",
      "metadata": {
        "id": "-P8Nde5OZRYR",
        "colab_type": "code",
        "cellView": "both",
        "colab": {
          "base_uri": "https://localhost:8080/",
          "height": 115
        },
        "outputId": "a4e658d3-ac4a-4569-98de-09f9977ed2a0"
      },
      "source": [
        "#@title Process to evaluate continuity in a column\n",
        "evaluacion_distritos=continuidad_columna(content_books=content_books, \n",
        "                        sheet_name='Polling_places_corrections',\n",
        "                        column_to_evaluate='municipality_id'\n",
        "                        )"
      ],
      "execution_count": null,
      "outputs": [
        {
          "output_type": "stream",
          "text": [
            "\n",
            "Para todos los archivos siguientes se evaluará la hoja: Polling_places_corrections y la columna: municipality_id\n",
            "\n",
            "Libro: aguascalientes_diputados_2013_polling_place.xlsx\n",
            "\tWuju! Los municipality_id archivo son continuos!\n",
            "\n"
          ],
          "name": "stdout"
        }
      ]
    },
    {
      "cell_type": "code",
      "metadata": {
        "id": "B8TH9KPbJgLY",
        "colab_type": "code",
        "cellView": "form",
        "colab": {
          "base_uri": "https://localhost:8080/",
          "height": 76
        },
        "outputId": "814d291d-33cf-41ea-b114-ec8d335ef037"
      },
      "source": [
        "#@title Differences found in column continuity\n",
        "\n",
        "df = pd.DataFrame([[key.split('.')[0],value['diferencia'],value['min'], value['max'], value['shape'], value['size']] for key,value in evaluacion_distritos.items()], \n",
        "                  columns=['Libro', 'IDs No Continuos', 'Mínimo', 'Máximo', 'Filas,Columnas', 'Total Celdas'])\n",
        "df"
      ],
      "execution_count": null,
      "outputs": [
        {
          "output_type": "execute_result",
          "data": {
            "text/html": [
              "<div>\n",
              "<style scoped>\n",
              "    .dataframe tbody tr th:only-of-type {\n",
              "        vertical-align: middle;\n",
              "    }\n",
              "\n",
              "    .dataframe tbody tr th {\n",
              "        vertical-align: top;\n",
              "    }\n",
              "\n",
              "    .dataframe thead th {\n",
              "        text-align: right;\n",
              "    }\n",
              "</style>\n",
              "<table border=\"1\" class=\"dataframe\">\n",
              "  <thead>\n",
              "    <tr style=\"text-align: right;\">\n",
              "      <th></th>\n",
              "      <th>Libro</th>\n",
              "      <th>IDs No Continuos</th>\n",
              "      <th>Mínimo</th>\n",
              "      <th>Máximo</th>\n",
              "      <th>Filas,Columnas</th>\n",
              "      <th>Total Celdas</th>\n",
              "    </tr>\n",
              "  </thead>\n",
              "  <tbody>\n",
              "    <tr>\n",
              "      <th>0</th>\n",
              "      <td>aguascalientes_diputados_2013_polling_place</td>\n",
              "      <td></td>\n",
              "      <td>0</td>\n",
              "      <td>0</td>\n",
              "      <td>(1421, 15)</td>\n",
              "      <td>21315</td>\n",
              "    </tr>\n",
              "  </tbody>\n",
              "</table>\n",
              "</div>"
            ],
            "text/plain": [
              "                                         Libro  ... Total Celdas\n",
              "0  aguascalientes_diputados_2013_polling_place  ...  21315      \n",
              "\n",
              "[1 rows x 6 columns]"
            ]
          },
          "metadata": {
            "tags": []
          },
          "execution_count": 27
        }
      ]
    },
    {
      "cell_type": "markdown",
      "metadata": {
        "id": "F29q11DUzbKJ",
        "colab_type": "text"
      },
      "source": [
        "## SECCIÓN 5: GUARDAR EN NUESTRO DRIVE"
      ]
    },
    {
      "cell_type": "code",
      "metadata": {
        "id": "iQJCx58QeBK7",
        "colab_type": "code",
        "cellView": "form",
        "colab": {
          "base_uri": "https://localhost:8080/",
          "height": 121
        },
        "outputId": "4b5f3aef-ace6-48d1-8ab6-b0e184abc8d5"
      },
      "source": [
        "#@title Autenticarse en google drive\n",
        "from google.colab import drive\n",
        "drive.mount('/content/drive')"
      ],
      "execution_count": null,
      "outputs": [
        {
          "output_type": "stream",
          "text": [
            "Go to this URL in a browser: https://accounts.google.com/o/oauth2/auth?client_id=947318989803-6bn6qk8qdgf4n4g3pfee6491hc0brc4i.apps.googleusercontent.com&redirect_uri=urn%3aietf%3awg%3aoauth%3a2.0%3aoob&response_type=code&scope=email%20https%3a%2f%2fwww.googleapis.com%2fauth%2fdocs.test%20https%3a%2f%2fwww.googleapis.com%2fauth%2fdrive%20https%3a%2f%2fwww.googleapis.com%2fauth%2fdrive.photos.readonly%20https%3a%2f%2fwww.googleapis.com%2fauth%2fpeopleapi.readonly\n",
            "\n",
            "Enter your authorization code:\n",
            "··········\n",
            "Mounted at /content/drive\n"
          ],
          "name": "stdout"
        }
      ]
    },
    {
      "cell_type": "code",
      "metadata": {
        "id": "y5_Lg7lFUdap",
        "colab_type": "code",
        "cellView": "form",
        "colab": {
          "base_uri": "https://localhost:8080/",
          "height": 50
        },
        "outputId": "b9ed8d26-e833-4085-b3e4-01c9e95dc0a1"
      },
      "source": [
        "#@title Crear carpeta en drive a donde se copiaran todos los archivos xlsx de esta sesión de notebook\n",
        "name_folder = \"aguascalientes_test9\" #@param {type:\"string\"}\n",
        "\n",
        "if name_folder:\n",
        "  try: \n",
        "    !mkdir  'drive/My Drive/'{name_folder}\n",
        "    !cp /content/*.xlsx 'drive/My Drive/'{name_folder}\n",
        "    print(f'Listo! Archivos guardados en tu carpeta de drive: {name_folder} :D')\n",
        "  except:\n",
        "    print('Agrega un nombre para la carpeta')\n",
        "  "
      ],
      "execution_count": null,
      "outputs": [
        {
          "output_type": "stream",
          "text": [
            "mkdir: cannot create directory ‘drive/My Drive/aguascalientes_test9’: File exists\n",
            "Listo! Archivos guardados en tu carpeta de drive: aguascalientes_test9 :D\n"
          ],
          "name": "stdout"
        }
      ]
    },
    {
      "cell_type": "code",
      "metadata": {
        "id": "6LtMLoLiiS5n",
        "colab_type": "code",
        "colab": {
          "base_uri": "https://localhost:8080/",
          "height": 17
        },
        "outputId": "e755819e-311a-4c3a-efa5-18ff6aaf7679"
      },
      "source": [
        "archivos= ! ls *.xlsx | tr '\\n' '\\n'\n",
        "from google.colab import files\n",
        "\n",
        "for archivo in archivos:\n",
        "  files.download(archivo)"
      ],
      "execution_count": null,
      "outputs": [
        {
          "output_type": "display_data",
          "data": {
            "application/javascript": [
              "\n",
              "    async function download(id, filename, size) {\n",
              "      if (!google.colab.kernel.accessAllowed) {\n",
              "        return;\n",
              "      }\n",
              "      const div = document.createElement('div');\n",
              "      const label = document.createElement('label');\n",
              "      label.textContent = `Downloading \"${filename}\": `;\n",
              "      div.appendChild(label);\n",
              "      const progress = document.createElement('progress');\n",
              "      progress.max = size;\n",
              "      div.appendChild(progress);\n",
              "      document.body.appendChild(div);\n",
              "\n",
              "      const buffers = [];\n",
              "      let downloaded = 0;\n",
              "\n",
              "      const channel = await google.colab.kernel.comms.open(id);\n",
              "      // Send a message to notify the kernel that we're ready.\n",
              "      channel.send({})\n",
              "\n",
              "      for await (const message of channel.messages) {\n",
              "        // Send a message to notify the kernel that we're ready.\n",
              "        channel.send({})\n",
              "        if (message.buffers) {\n",
              "          for (const buffer of message.buffers) {\n",
              "            buffers.push(buffer);\n",
              "            downloaded += buffer.byteLength;\n",
              "            progress.value = downloaded;\n",
              "          }\n",
              "        }\n",
              "      }\n",
              "      const blob = new Blob(buffers, {type: 'application/binary'});\n",
              "      const a = document.createElement('a');\n",
              "      a.href = window.URL.createObjectURL(blob);\n",
              "      a.download = filename;\n",
              "      div.appendChild(a);\n",
              "      a.click();\n",
              "      div.remove();\n",
              "    }\n",
              "  "
            ],
            "text/plain": [
              "<IPython.core.display.Javascript object>"
            ]
          },
          "metadata": {
            "tags": []
          }
        },
        {
          "output_type": "display_data",
          "data": {
            "application/javascript": [
              "download(\"download_752d6fcc-1b27-4f93-8c40-4ed3bd120da2\", \"aguascalientes_diputados_2013_polling_place.xlsx\", 169341)"
            ],
            "text/plain": [
              "<IPython.core.display.Javascript object>"
            ]
          },
          "metadata": {
            "tags": []
          }
        }
      ]
    }
  ]
}