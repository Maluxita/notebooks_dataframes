{
  "nbformat": 4,
  "nbformat_minor": 0,
  "metadata": {
    "colab": {
      "name": "evaluate_and_adjust_analysis_and_computations_[V_1_2_5]",
      "provenance": [],
      "collapsed_sections": [
        "MLetwF-Zq5z4"
      ],
      "toc_visible": true,
      "include_colab_link": true
    },
    "kernelspec": {
      "name": "python3",
      "display_name": "Python 3"
    }
  },
  "cells": [
    {
      "cell_type": "markdown",
      "metadata": {
        "id": "view-in-github",
        "colab_type": "text"
      },
      "source": [
        "<a href=\"https://colab.research.google.com/github/Maluxita/notebooks_dataframes/blob/master/evaluate_and_adjust_analysis_and_computations_%5BV_1_2_5%5D.ipynb\" target=\"_parent\"><img src=\"https://colab.research.google.com/assets/colab-badge.svg\" alt=\"Open In Colab\"/></a>"
      ]
    },
    {
      "cell_type": "markdown",
      "metadata": {
        "id": "w_EKf2Yqy2Jp",
        "colab_type": "text"
      },
      "source": [
        "## SECCIÓN [Analysis empty cells]"
      ]
    },
    {
      "cell_type": "markdown",
      "metadata": {
        "id": "4zc_r3kEcOLq",
        "colab_type": "text"
      },
      "source": [
        "Esta sección nos ayuda a identificar las columnas que tienen celdas con NaN(\"Not a Number\" para nuestro caso igual a:  \"vacías\"), así como el tipo de dato presente en cada columna.\n",
        "\n",
        "> * Recibe una lista con los nombres de las hojas que deseamos leer en cada libro.\n",
        "> * También recibe una cadena que representa un patrón, el cuál busca los archivos excel cargados.\n",
        "> * A veces solo nos interesa ver la info de las hojas que tienen celdas NaN, entonces hay que marcar la casilla view_only_sheets_nan.\n",
        "> * Marca la casilla print_list_sheets si quieres ver el contenido de cada hoja procesada."
      ]
    },
    {
      "cell_type": "code",
      "metadata": {
        "id": "StAfkacBQSqp",
        "colab_type": "code",
        "cellView": "form",
        "colab": {
          "base_uri": "https://localhost:8080/",
          "height": 329
        },
        "outputId": "437d7ca6-3e85-4c04-818f-ff10e25410c8"
      },
      "source": [
        "#@title Summary NaN types\n",
        "sheets =  ['Election','Sources','Candidates','Coalitions','Election_counts']#@param {type:\"raw\"}\n",
        "content_books =  \"*.xlsx | tr '\\n' '\\n'\"#@param {type:\"raw\"}\n",
        "view_only_sheets_nan = True #@param {type:\"boolean\"}\n",
        "view_list_sheets = False #@param {type:\"boolean\"}\n",
        "\n",
        "\n",
        "import pandas as pd\n",
        "from IPython.display import display, HTML\n",
        "\n",
        "content_books=!ls {content_books}\n",
        "\n",
        "def count_nan_in_columns_by_sheet(content_books, sheets):\n",
        "  '''Return dicc with conteo_NaN info by sheet in content_books ''' \n",
        "  list_data=[]\n",
        "  dicc_data={}\n",
        "\n",
        "  for sheet in sheets:\n",
        "    for file_name in content_books:\n",
        "      try:\n",
        "        sheet_to_df = pd.read_excel(file_name, sheet_name=sheet)\n",
        "      except:\n",
        "        print(f'\\n ¡AVISO! No existe la hoja {sheet} en este archivo {file_name}')\n",
        "        continue\n",
        "\n",
        "      shape = sheet_to_df.shape\n",
        "      df_types = pd.DataFrame([sheet_to_df.dtypes], columns=sheet_to_df.columns)\n",
        "      df_types = df_types.append(sheet_to_df, ignore_index=True)\n",
        "      df_types = df_types.rename(index = {0: 'data_column_type'})\n",
        "      \n",
        "      dicc_data = {'Archivo': file_name}\n",
        "      dicc_data.update({'Hoja': sheet})\n",
        "      dicc_data.update({'Contenido': str(shape[0]) + ' filas, '+ str(shape[1])+ ' columnas'})\n",
        "\n",
        "      if sheet_to_df.isnull().sum().sum() == 0:\n",
        "          msg = 'No tiene ninguna celda tipo NaN'\n",
        "      else:\n",
        "          null_columns = sheet_to_df.columns[sheet_to_df.isnull().any()]\n",
        "          msg=''.join(sheet_to_df[null_columns].isnull().sum().to_string()).split('\\n')\n",
        "          msg=', '.join(msg)\n",
        "\n",
        "      dicc_data.update({'Aviso': msg })\n",
        "      list_data.append(dicc_data)\n",
        "\n",
        "      if view_list_sheets:\n",
        "\n",
        "          print('\\nArchivo:',file_name)\n",
        "          print('________                                                    ')\n",
        "          print('\\t| Hoja:',sheet, '\\t',shape[0], 'filas, ', shape[1], 'columnas')\n",
        "          print('\\t| Aviso conteo NaN:',msg,' |\\n')\n",
        "          display(HTML(df_types.to_html()))\n",
        "\n",
        "  return list_data\n",
        "\n",
        "\n",
        "list_data=count_nan_in_columns_by_sheet(content_books, sheets)\n",
        "\n",
        "df=pd.DataFrame([[fila['Archivo'], \n",
        "                  fila['Aviso'], \n",
        "                  fila['Contenido'], \n",
        "                  fila['Hoja']] \n",
        "                 for fila in list_data] , columns=['archivo', 'conteo_NaN', 'contenido', 'hoja'])\n",
        "\n",
        "if view_only_sheets_nan:\n",
        "  df=df[~df.conteo_NaN.str.contains('No tiene')]\n",
        "\n",
        "print('\\nRESUMEN:\\n')\n",
        "display(HTML(df.to_html()))"
      ],
      "execution_count": 10,
      "outputs": [
        {
          "output_type": "stream",
          "text": [
            "\n",
            " ¡AVISO! No existe la hoja Sources en este archivo chiapas_municipios_2018_polling_place.xlsx\n",
            "\n",
            " ¡AVISO! No existe la hoja Candidates en este archivo chiapas_municipios_2018_polling_place.xlsx\n",
            "\n",
            " ¡AVISO! No existe la hoja Coalitions en este archivo chiapas_municipios_2018_polling_place.xlsx\n",
            "\n",
            " ¡AVISO! No existe la hoja Election_counts en este archivo chiapas_municipios_2018_polling_place.xlsx\n",
            "\n",
            "RESUMEN:\n",
            "\n"
          ],
          "name": "stdout"
        },
        {
          "output_type": "display_data",
          "data": {
            "text/html": [
              "<table border=\"1\" class=\"dataframe\">\n",
              "  <thead>\n",
              "    <tr style=\"text-align: right;\">\n",
              "      <th></th>\n",
              "      <th>archivo</th>\n",
              "      <th>conteo_NaN</th>\n",
              "      <th>contenido</th>\n",
              "      <th>hoja</th>\n",
              "    </tr>\n",
              "  </thead>\n",
              "  <tbody>\n",
              "    <tr>\n",
              "      <th>2</th>\n",
              "      <td>chihuahua_municipios_2016.xlsx</td>\n",
              "      <td>File              1, Considerations    1</td>\n",
              "      <td>1 filas, 5 columnas</td>\n",
              "      <td>Sources</td>\n",
              "    </tr>\n",
              "    <tr>\n",
              "      <th>3</th>\n",
              "      <td>chihuahua_municipios_2016.xlsx</td>\n",
              "      <td>Affiliation    67</td>\n",
              "      <td>67 filas, 4 columnas</td>\n",
              "      <td>Candidates</td>\n",
              "    </tr>\n",
              "    <tr>\n",
              "      <th>4</th>\n",
              "      <td>chihuahua_municipios_2016.xlsx</td>\n",
              "      <td>Name    67</td>\n",
              "      <td>67 filas, 4 columnas</td>\n",
              "      <td>Coalitions</td>\n",
              "    </tr>\n",
              "  </tbody>\n",
              "</table>"
            ],
            "text/plain": [
              "<IPython.core.display.HTML object>"
            ]
          },
          "metadata": {
            "tags": []
          }
        }
      ]
    },
    {
      "cell_type": "markdown",
      "metadata": {
        "id": "kXXfbYXlu_p0",
        "colab_type": "text"
      },
      "source": [
        "## SECCIÓN [Split Computations]"
      ]
    },
    {
      "cell_type": "markdown",
      "metadata": {
        "id": "vF3UDYkHzMzp",
        "colab_type": "text"
      },
      "source": [
        "Esta sección nos ayuda a separar una columna apilada dada (C. Independiente n), en múltiples columnas agrupando por una columna pivote (municipality_id)\n",
        "\n",
        "> * Agregar el nombre de la hoja a leer,\n",
        "> * Agregar el nombre de la nueva hoja a crear\n",
        "> * Agregar el patrón de los archivos a leer.\n",
        "\n",
        "\n"
      ]
    },
    {
      "cell_type": "code",
      "metadata": {
        "id": "tF0D4I1Ztgqi",
        "colab_type": "code",
        "colab": {},
        "cellView": "form"
      },
      "source": [
        "#@title Functions [Split Computations]\n",
        "import pandas as pd\n",
        "from IPython.display import display, HTML\n",
        "from openpyxl import load_workbook\n",
        "\n",
        "\n",
        "def some_column_begin_with(columns, phrase='C. Independiente'):\n",
        "  for column in columns:\n",
        "    if phrase in column:\n",
        "      return True\n",
        "  return False\n",
        "\n",
        "def filter_columns(columns, phrase='C. Independiente'):\n",
        "    return filter(lambda c: phrase in c, columns)\n",
        "\n",
        "def add_new_sheet(name_book,df,name_sheet):\n",
        "  ''' add new sheet, if the sheet exists it will be overwritten'''\n",
        "  book = load_workbook(name_book)\n",
        "  writer = pd.ExcelWriter(name_book, engine = 'openpyxl', mode='w')\n",
        "  writer.book = book\n",
        "  writer.sheets = dict((ws.title, ws) for ws in book.worksheets) \n",
        "  df.to_excel(writer, sheet_name = name_sheet, index=False)\n",
        "  writer.save()\n",
        "  writer.close()\n",
        "\n",
        "\n",
        "def split_column_in_columns(content_books,sheet):\n",
        "  '''split a stacked column\n",
        "  (Independent C. n's), in multiple columns\n",
        "  by filter value of another column (municipality_id)'''\n",
        "\n",
        "  new_computes=[]\n",
        "  computes_mun=[]\n",
        "  phrase='C. Independiente'\n",
        "  pivot_column='municipality_id'\n",
        "\n",
        "  for file_name in content_books:\n",
        "    try:\n",
        "      my_data = pd.read_excel(file_name, sheet_name=sheet)\n",
        "    except:\n",
        "      print(f'No existe Polling places en el archivo {file_name}')\n",
        "      continue\n",
        "    if some_column_begin_with(my_data.columns, phrase):\n",
        "      muns = my_data[pivot_column].unique()\n",
        "      for mun in muns:\n",
        "        df_mun = my_data.loc[my_data[pivot_column] == mun].copy()\n",
        "        for n_independiente in filter_columns(my_data.columns, phrase):\n",
        "          if df_mun[n_independiente].sum() > 0:\n",
        "            df_mun[n_independiente +'_mun_'+str(mun)] = df_mun[n_independiente]\n",
        "            computes_mun = df_mun.to_dict('records')\n",
        "            new_computes.extend(computes_mun)\n",
        "    \n",
        "      new_data = pd.DataFrame(new_computes)\n",
        "      new_data = new_data.fillna(0)\n",
        "      new_data = new_data.astype(int)\n",
        "      add_new_sheet(file_name, new_data, new_sheet)\n",
        "      print(f'Se creó la hoja: {new_sheet} en el archivo:{file_name}')\n",
        "    else:\n",
        "      print(f'No existen C. Independientes en el archivo: {file_name}')\n",
        "  return 0\n"
      ],
      "execution_count": 14,
      "outputs": []
    },
    {
      "cell_type": "code",
      "metadata": {
        "id": "l44EnhTIvNYM",
        "colab_type": "code",
        "colab": {
          "base_uri": "https://localhost:8080/",
          "height": 68
        },
        "cellView": "form",
        "outputId": "c0ad23cf-12e5-4d6b-8d86-4beb25740e29"
      },
      "source": [
        "#@title Split columns from computations\n",
        "\n",
        "sheet=\"Polling_places\"#@param {type:\"string\"}\n",
        "new_sheet=\"Polling_places_split\"#@param {type:\"string\"}\n",
        "\n",
        "content_books =  \"*.xlsx | tr '\\n' '\\n'\"#@param {type:\"raw\"}\n",
        "\n",
        "content_books=!ls {content_books}\n",
        "\n",
        "\n",
        "split_column_in_columns(content_books,sheet)\n",
        "\n"
      ],
      "execution_count": 15,
      "outputs": [
        {
          "output_type": "stream",
          "text": [
            "Se creó la hoja: Polling_places_split en el archivo:chiapas_municipios_2018_polling_place.xlsx\n",
            "No existe Polling places en el archivo chihuahua_municipios_2016.xlsx\n"
          ],
          "name": "stdout"
        },
        {
          "output_type": "execute_result",
          "data": {
            "text/plain": [
              "0"
            ]
          },
          "metadata": {
            "tags": []
          },
          "execution_count": 15
        }
      ]
    },
    {
      "cell_type": "markdown",
      "metadata": {
        "id": "L_kZEJKqBLFW",
        "colab_type": "text"
      },
      "source": [
        "## SECCIÓN 1: DEFINIR BIBLIOTECAS Y ARCHIVOS"
      ]
    },
    {
      "cell_type": "code",
      "metadata": {
        "id": "VltbV4hovNH-",
        "colab_type": "code",
        "cellView": "form",
        "colab": {}
      },
      "source": [
        "#@title Importamos bibliotecas\n",
        "import pandas as pd\n",
        "import numpy as np\n",
        "from openpyxl import load_workbook"
      ],
      "execution_count": null,
      "outputs": []
    },
    {
      "cell_type": "code",
      "metadata": {
        "id": "Yxh3aZs_78Sa",
        "colab_type": "code",
        "cellView": "form",
        "colab": {}
      },
      "source": [
        "#@title Definir funciones a usar\n",
        "def add_new_sheet_index(name_book,df,name_sheet):\n",
        "  ''' add new sheet, if the sheet exists new sheet with other index will be created'''\n",
        "  book = load_workbook(name_book)\n",
        "  writer = pd.ExcelWriter(name_book, engine = 'openpyxl', mode='w')\n",
        "  writer.book = book\n",
        "  df.to_excel(writer, sheet_name = name_sheet, index=False)\n",
        "  writer.save()\n",
        "  writer.close()\n",
        "\n",
        "def add_new_sheet(name_book,df,name_sheet):\n",
        "  ''' add new sheet, if the sheet exists it will be overwritten'''\n",
        "  book = load_workbook(name_book)\n",
        "  writer = pd.ExcelWriter(name_book, engine = 'openpyxl', mode='w')\n",
        "  writer.book = book\n",
        "  writer.sheets = dict((ws.title, ws) for ws in book.worksheets) \n",
        "  #print(writer.sheets) \n",
        "  df.to_excel(writer, sheet_name = name_sheet, index=False)\n",
        "  writer.save()\n",
        "  writer.close()\n",
        "\n",
        "def types_columns_unique(types_dataframe):\n",
        "  ''' generate a set of types columns from columns dataframe'''\n",
        "  return ','.join(map(str, set(list(types_dataframe))))\n",
        "\n",
        "\n",
        "def adjust_integers(content_books, sheet_name, new_sheet_name, regex_pattern_aditional=r'^-*$|^o+$|^O+$'):\n",
        "  ''' Try to convert all columns in a sheet_name to integer, \n",
        "      from each book in content_books '''\n",
        "  all_columns_integer={}\n",
        "  print(f'\\nSe creará NUEVA HOJA \"{new_sheet_name}\" para cada uno de los archivos siguientes, con los ajustes que se muestran en summary')\n",
        "  for book in content_books:\n",
        "    sustituir_vacios = True\n",
        "    original_all_numbers = False\n",
        "    all_columns_integer[book]={}\n",
        "    print('\\n\\nLeyendo Libro:',book)\n",
        "    df_temp = pd.read_excel(book,sheet_name=sheet_name)\n",
        "    try:\n",
        "      df_temp = df_temp.astype(int, errors='raise')\n",
        "      sustituir_vacios = False\n",
        "      original_all_numbers = True\n",
        "    except ValueError as e:\n",
        "      print('\\n\\tAVISO: Se encontraron valores que no se pueden convertir a entero directamente...')\n",
        "      #print('\\n\\t\\t!Info error 1:',e)\n",
        "      all_columns_integer[book]['integer'] = False\n",
        "    if sustituir_vacios:\n",
        "      try:\n",
        "        df_temp=df_temp.replace(r'^\\s*$', 0, regex=True).replace(regex_pattern_aditional, 0, regex=True)\n",
        "        #print(f'\\n\\tTRATAREMOS de SUSTITUIR valores VACÍOS, y los que cumplan este PATRÓN: {regex_pattern_aditional} por ceros')\n",
        "      except ValueError as e:\n",
        "        print('\\n\\tAVISO: Algún valor NO SE PUDO SUSTITUIR por 0\\'s \\:\\( ')\n",
        "        #print ('\\n\\t\\t!Info error 2:',e)\n",
        "    df_temp=df_temp.fillna(0)\n",
        "\n",
        "    try:\n",
        "      df_temp = df_temp.astype(int, errors='raise')\n",
        "      all_columns_integer[book]['integer'] = True\n",
        "    except ValueError as e:\n",
        "      print('\\n\\tAVISO: Existe algún valor que no se puede convertir a entero :S')\n",
        "      #print('\\n\\t\\t!Info error 3', e)\n",
        "      all_columns_integer[book]['integer'] = False\n",
        "    \n",
        "    all_columns_integer[book]['original_all_numbers'] = original_all_numbers\n",
        "    all_columns_integer[book]['types_unique'] = types_columns_unique(df_temp.dtypes)\n",
        "\n",
        "    g = dict(df_temp.columns.to_series().groupby(df_temp.dtypes).groups)   \n",
        "    types_columns={}\n",
        "\n",
        "    for k,v in g.items():\n",
        "      if not 'int' in (str(k)):\n",
        "        types_columns[str(k)]=','.join(list(v))\n",
        "\n",
        "    if not all_columns_integer[book]['integer']:\n",
        "      print('\\n\\tAVISO: Intenta un proceso individual para cada columna ...')\n",
        "    types_columns.update({'book':book.split('.')[0]})\n",
        "    all_columns_integer[book]['types_by_column'] = types_columns\n",
        "    add_new_sheet(name_book=book,df=df_temp,name_sheet=new_sheet_name)\n",
        "\n",
        "\n",
        "  print('\\nFin del proceso :)')\n",
        "  return all_columns_integer\n"
      ],
      "execution_count": null,
      "outputs": []
    },
    {
      "cell_type": "code",
      "metadata": {
        "id": "XM9spDcV_rsO",
        "colab_type": "code",
        "cellView": "form",
        "colab": {}
      },
      "source": [
        "#@title Leemos cuales son los archivos con terminación xlsx\n",
        "content_books = !ls *.xlsx | tr '\\n' '\\n'"
      ],
      "execution_count": null,
      "outputs": []
    },
    {
      "cell_type": "markdown",
      "metadata": {
        "id": "GFbZYH_L_w3L",
        "colab_type": "text"
      },
      "source": [
        "## SECCIÓN 2: CONVERSIÓN ENTEROS \n",
        "######  \n",
        "\n",
        "*   Modifica a integer los valores de las columnas\n",
        "*   De no ser posible la conversión, intenta reemplazar a 0's espacios en blanco y los que cumplan con un patrón regular.\n",
        "*   En el mismo archivo agrega una hoja nueva 'Polling_places_corrections'"
      ]
    },
    {
      "cell_type": "code",
      "metadata": {
        "id": "XnsG09fsdRUN",
        "colab_type": "code",
        "cellView": "form",
        "colab": {
          "base_uri": "https://localhost:8080/",
          "height": 228
        },
        "outputId": "25c1705f-2314-431e-fb49-1b6fcaafd6a7"
      },
      "source": [
        "#@title Column to Integer Conversion Proccess\n",
        "all_columns_integer = adjust_integers(content_books = content_books, \n",
        "                                    sheet_name = 'Polling_places', \n",
        "                                    new_sheet_name = 'Polling_places_corrections',\n",
        "                                    regex_pattern_aditional = r'^-*$|^o+$|^O+$|^/+$')\n"
      ],
      "execution_count": null,
      "outputs": [
        {
          "output_type": "stream",
          "text": [
            "\n",
            "Se creará NUEVA HOJA \"Polling_places_corrections\" para cada uno de los archivos siguientes, con los ajustes que se muestran en summary\n",
            "\n",
            "\n",
            "Leyendo Libro: aguascalientes_diputados_2013_polling_place.xlsx\n",
            "\n",
            "\n",
            "Leyendo Libro: baja-california_municipios_2013_polling_place (4).xlsx\n",
            "\n",
            "\n",
            "Leyendo Libro: baja-california_municipios_2016_polling_place.xlsx\n",
            "\n",
            "Fin del proceso :)\n"
          ],
          "name": "stdout"
        }
      ]
    },
    {
      "cell_type": "code",
      "metadata": {
        "id": "bTuKjgOiNbSx",
        "colab_type": "code",
        "cellView": "form",
        "colab": {
          "base_uri": "https://localhost:8080/",
          "height": 133
        },
        "outputId": "7fd09404-601d-42d3-e7a9-633e531fae66"
      },
      "source": [
        "#@title Summary Conversion Integers\n",
        "df = pd.DataFrame([[key.split('.')[0],value['integer'],value['original_all_numbers'], value['types_unique']] for key,value in all_columns_integer.items()], columns=['name_book', 'Finally Integer?','Began with numbers?', 'Types unique'])\n",
        "df"
      ],
      "execution_count": null,
      "outputs": [
        {
          "output_type": "execute_result",
          "data": {
            "text/html": [
              "<div>\n",
              "<style scoped>\n",
              "    .dataframe tbody tr th:only-of-type {\n",
              "        vertical-align: middle;\n",
              "    }\n",
              "\n",
              "    .dataframe tbody tr th {\n",
              "        vertical-align: top;\n",
              "    }\n",
              "\n",
              "    .dataframe thead th {\n",
              "        text-align: right;\n",
              "    }\n",
              "</style>\n",
              "<table border=\"1\" class=\"dataframe\">\n",
              "  <thead>\n",
              "    <tr style=\"text-align: right;\">\n",
              "      <th></th>\n",
              "      <th>name_book</th>\n",
              "      <th>Finally Integer?</th>\n",
              "      <th>Began with numbers?</th>\n",
              "      <th>Types unique</th>\n",
              "    </tr>\n",
              "  </thead>\n",
              "  <tbody>\n",
              "    <tr>\n",
              "      <th>0</th>\n",
              "      <td>aguascalientes_diputados_2013_polling_place</td>\n",
              "      <td>True</td>\n",
              "      <td>True</td>\n",
              "      <td>int64</td>\n",
              "    </tr>\n",
              "    <tr>\n",
              "      <th>1</th>\n",
              "      <td>baja-california_municipios_2013_polling_place (4)</td>\n",
              "      <td>True</td>\n",
              "      <td>True</td>\n",
              "      <td>int64</td>\n",
              "    </tr>\n",
              "    <tr>\n",
              "      <th>2</th>\n",
              "      <td>baja-california_municipios_2016_polling_place</td>\n",
              "      <td>True</td>\n",
              "      <td>True</td>\n",
              "      <td>int64</td>\n",
              "    </tr>\n",
              "  </tbody>\n",
              "</table>\n",
              "</div>"
            ],
            "text/plain": [
              "                                           name_book  ...  Types unique\n",
              "0  aguascalientes_diputados_2013_polling_place        ...  int64       \n",
              "1  baja-california_municipios_2013_polling_place (4)  ...  int64       \n",
              "2  baja-california_municipios_2016_polling_place      ...  int64       \n",
              "\n",
              "[3 rows x 4 columns]"
            ]
          },
          "metadata": {
            "tags": []
          },
          "execution_count": 36
        }
      ]
    },
    {
      "cell_type": "markdown",
      "metadata": {
        "id": "05t8WKJGqcJq",
        "colab_type": "text"
      },
      "source": [
        "### SECCIÓN 2.1 Suggest changes in columns cells"
      ]
    },
    {
      "cell_type": "code",
      "metadata": {
        "id": "6A1N4ZasGqom",
        "colab_type": "code",
        "cellView": "form",
        "colab": {
          "base_uri": "https://localhost:8080/",
          "height": 32
        },
        "outputId": "83a2e15f-30c0-40c6-88a6-4bebd7794452"
      },
      "source": [
        "#@title Summary Columns cannot convert to Integers in a book\n",
        "columnas_not_int=pd.DataFrame([v['types_by_column'] for v in all_columns_integer.values() if not v['integer']])\n",
        "pd.set_option('display.max_colwidth', 0)\n",
        "columnas_not_int\n"
      ],
      "execution_count": null,
      "outputs": [
        {
          "output_type": "execute_result",
          "data": {
            "text/html": [
              "<div>\n",
              "<style scoped>\n",
              "    .dataframe tbody tr th:only-of-type {\n",
              "        vertical-align: middle;\n",
              "    }\n",
              "\n",
              "    .dataframe tbody tr th {\n",
              "        vertical-align: top;\n",
              "    }\n",
              "\n",
              "    .dataframe thead th {\n",
              "        text-align: right;\n",
              "    }\n",
              "</style>\n",
              "<table border=\"1\" class=\"dataframe\">\n",
              "  <thead>\n",
              "    <tr style=\"text-align: right;\">\n",
              "      <th></th>\n",
              "    </tr>\n",
              "  </thead>\n",
              "  <tbody>\n",
              "  </tbody>\n",
              "</table>\n",
              "</div>"
            ],
            "text/plain": [
              "Empty DataFrame\n",
              "Columns: []\n",
              "Index: []"
            ]
          },
          "metadata": {
            "tags": []
          },
          "execution_count": 37
        }
      ]
    },
    {
      "cell_type": "code",
      "metadata": {
        "id": "y1w9360Rfq1-",
        "colab_type": "code",
        "cellView": "form",
        "colab": {
          "base_uri": "https://localhost:8080/",
          "height": 66
        },
        "outputId": "e1ac5d8f-1c77-4241-eabb-50416d1d82d5"
      },
      "source": [
        "#@title Proccess to suggest changes in columns\n",
        "def fix_multiple_types(n): \n",
        "    import re\n",
        "    tipo=str(type(n))\n",
        "    x=n\n",
        "    if 'int' in tipo:\n",
        "      return n\n",
        "    if 'str' in tipo:\n",
        "      numbers_patron = re.compile(r\"[\\d]\", re.X)\n",
        "      number=''.join(numbers_patron.findall(n))\n",
        "      try: \n",
        "        n=int(number)\n",
        "        print( '\\t\\t\\tAhora: ',str(type(n)), str(n), '\\tAntes:', tipo, str(x))\n",
        "        return n\n",
        "      except:\n",
        "        pass\n",
        "    elif 'float' in tipo:\n",
        "      if n >= 0:\n",
        "        n=int(n)\n",
        "        return n\n",
        "    print('\\t\\t\\tAhora:', str(type(0)),str(0), '\\tAntes:', str(type(x)), str(x))\n",
        "    return 0\n",
        "\n",
        "def fix_multiple_types_suggest_columns(n): \n",
        "    import re\n",
        "    tipo=str(type(n))\n",
        "    x=n\n",
        "    if 'int' in tipo:\n",
        "      return n\n",
        "    if 'str' in tipo:\n",
        "      numbers_patron = re.compile(r\"[\\d]\", re.X)\n",
        "      number=''.join(numbers_patron.findall(n))\n",
        "      try: \n",
        "        n=int(number)\n",
        "        n=''.join(['Ahora: ',str(type(n)),' ', str(n), ' Antes: ', tipo, str(x)])\n",
        "        return n\n",
        "      except:\n",
        "        pass\n",
        "    elif 'float' in tipo:\n",
        "      if n >= 0:\n",
        "        n=int(n)\n",
        "        return n\n",
        "    return ''.join(['Ahora: ', str(type(0)),' ', str(0), ' Antes: ', str(type(x)), str(x)])\n",
        "   \n",
        "\n",
        "for k,v in all_columns_integer.items():\n",
        "  df_temp_columns_suggest = pd.read_excel(k,sheet_name='Polling_places')\n",
        "  df_temp_sheet_suggest = pd.read_excel(k,sheet_name='Polling_places')\n",
        "\n",
        "  print('LIBRO:',k,'\\t')\n",
        " \n",
        "  if not v['integer']:\n",
        "    for key, tipos in v['types_by_column'].items():\n",
        "      if key == 'book':\n",
        "        continue\n",
        "      print('TIPO:',key)\n",
        "      \n",
        "      for c in tipos.split(','):\n",
        "        print('\\n\\tColumna:\\n\\t',c,'\\n')\n",
        "        df_temp_sheet_suggest[c]=list(map(fix_multiple_types,list(df_temp_sheet_suggest[c])))\n",
        "        #df_temp_columns_suggest[c+'suggested']= df_temp_columns_suggest[c].map(fix_multiple_types_suggest_columns)\n",
        "        df_temp_columns_suggest[c]= df_temp_columns_suggest[c].map(fix_multiple_types_suggest_columns)\n",
        "\n",
        "    df_temp_sheet_suggest.astype(int, errors='ignore')\n",
        "    df_temp_columns_suggest.astype(int, errors='ignore')\n",
        "    \n",
        "\n",
        "    add_new_sheet(name_book=k,df=df_temp_sheet_suggest,name_sheet='Polling_places_corrections')\n",
        "    add_new_sheet(name_book=k,df=df_temp_columns_suggest,name_sheet='Polling_places_suggested')\n"
      ],
      "execution_count": null,
      "outputs": [
        {
          "output_type": "stream",
          "text": [
            "LIBRO: aguascalientes_diputados_2013_polling_place.xlsx \t\n",
            "LIBRO: baja-california_municipios_2013_polling_place (4).xlsx \t\n",
            "LIBRO: baja-california_municipios_2016_polling_place.xlsx \t\n"
          ],
          "name": "stdout"
        }
      ]
    },
    {
      "cell_type": "markdown",
      "metadata": {
        "id": "MLetwF-Zq5z4",
        "colab_type": "text"
      },
      "source": [
        "## SECCIÓN REVISAR HOJA ELECCION"
      ]
    },
    {
      "cell_type": "code",
      "metadata": {
        "id": "4ZFvKeiCq5Et",
        "colab_type": "code",
        "cellView": "form",
        "colab": {
          "base_uri": "https://localhost:8080/",
          "height": 341
        },
        "outputId": "387dc56e-ccee-4a1c-e839-6f7e323d6b1a"
      },
      "source": [
        "#@title Comprobar hoja Election\n",
        "columnas_plantilla_election1=['State','Year','Election_type','Total_votes','Nominal_list','Computed_transactions','Fidelity']\n",
        "#columnas_plantilla_Polling_places=['section_id', 'local_disctrict_id', 'municipality_id', 'state_id','Not_reg','Null_votes']\n",
        "columnas_plantilla_election=set(['State','Year','Election_type','Total_votes','Nominal_list','Computed_transactions','Fidelity'])\n",
        "lista_elections=[]\n",
        "dicc_election={}\n",
        "\n",
        "from IPython.display import display, HTML\n",
        "import pandas as pd\n",
        "\n",
        "content_books =  \"*.xlsx | tr '\\n' '\\n'\"#@param {type:\"raw\"}\n",
        "content_books =  !ls {content_books}\n",
        "\n",
        "for k in content_books:\n",
        "  print(k)\n",
        "  xls = pd.ExcelFile(k)\n",
        "  if  not 'Election' in xls.sheet_names:\n",
        "    print(f'\\n\\tNo existe la hoja Election para este archivo {k}')\n",
        "    continue\n",
        "\n",
        "  data_election=pd.read_excel(k,sheet_name='Election')\n",
        "  dicc_election['book']=k\n",
        "  columnas_hoja_election=set(data_election.columns)\n",
        "\n",
        "  if  not columnas_plantilla_election-columnas_hoja_election:\n",
        "    print('\\tColumnas igual a la plantilla!\\n')\n",
        "    header_equal=True\n",
        "  else:\n",
        "    print('Falta al menos una columna con respecto a la plantilla\\n')\n",
        "    header_equal=False\n",
        "\n",
        "  dicc_election['header_equal']=header_equal\n",
        "\n",
        "  dicc_election['types_column']=list(data_election.dtypes)\n",
        "  dicc_election['values_fila']=list(data_election.iloc[0])\n",
        "  lista_elections.append(dicc_election)\n",
        "  dicc_election['total_values']=len(data_election.iloc[0])\n",
        "  dicc_election['total_header']=len(data_election.iloc[0])\n",
        "\n",
        "  df_=pd.DataFrame([dicc_election['types_column'],dicc_election['values_fila'] ], index=['types','values'],columns=columnas_plantilla_election1)\n",
        "  \n",
        "  display(HTML(df_.to_html()))\n",
        "  print()\n",
        "\n",
        "\n",
        "\n"
      ],
      "execution_count": 17,
      "outputs": [
        {
          "output_type": "stream",
          "text": [
            "chiapas_municipios_2018_polling_place.xlsx\n",
            "\tColumnas igual a la plantilla!\n",
            "\n"
          ],
          "name": "stdout"
        },
        {
          "output_type": "display_data",
          "data": {
            "text/html": [
              "<table border=\"1\" class=\"dataframe\">\n",
              "  <thead>\n",
              "    <tr style=\"text-align: right;\">\n",
              "      <th></th>\n",
              "      <th>State</th>\n",
              "      <th>Year</th>\n",
              "      <th>Election_type</th>\n",
              "      <th>Total_votes</th>\n",
              "      <th>Nominal_list</th>\n",
              "      <th>Computed_transactions</th>\n",
              "      <th>Fidelity</th>\n",
              "    </tr>\n",
              "  </thead>\n",
              "  <tbody>\n",
              "    <tr>\n",
              "      <th>types</th>\n",
              "      <td>int64</td>\n",
              "      <td>int64</td>\n",
              "      <td>object</td>\n",
              "      <td>int64</td>\n",
              "      <td>int64</td>\n",
              "      <td>int64</td>\n",
              "      <td>int64</td>\n",
              "    </tr>\n",
              "    <tr>\n",
              "      <th>values</th>\n",
              "      <td>7</td>\n",
              "      <td>2018</td>\n",
              "      <td>Municipios</td>\n",
              "      <td>2365367</td>\n",
              "      <td>3541181</td>\n",
              "      <td>0</td>\n",
              "      <td>3</td>\n",
              "    </tr>\n",
              "  </tbody>\n",
              "</table>"
            ],
            "text/plain": [
              "<IPython.core.display.HTML object>"
            ]
          },
          "metadata": {
            "tags": []
          }
        },
        {
          "output_type": "stream",
          "text": [
            "\n",
            "chihuahua_municipios_2016.xlsx\n",
            "\tColumnas igual a la plantilla!\n",
            "\n"
          ],
          "name": "stdout"
        },
        {
          "output_type": "display_data",
          "data": {
            "text/html": [
              "<table border=\"1\" class=\"dataframe\">\n",
              "  <thead>\n",
              "    <tr style=\"text-align: right;\">\n",
              "      <th></th>\n",
              "      <th>State</th>\n",
              "      <th>Year</th>\n",
              "      <th>Election_type</th>\n",
              "      <th>Total_votes</th>\n",
              "      <th>Nominal_list</th>\n",
              "      <th>Computed_transactions</th>\n",
              "      <th>Fidelity</th>\n",
              "    </tr>\n",
              "  </thead>\n",
              "  <tbody>\n",
              "    <tr>\n",
              "      <th>types</th>\n",
              "      <td>int64</td>\n",
              "      <td>int64</td>\n",
              "      <td>object</td>\n",
              "      <td>int64</td>\n",
              "      <td>int64</td>\n",
              "      <td>int64</td>\n",
              "      <td>int64</td>\n",
              "    </tr>\n",
              "    <tr>\n",
              "      <th>values</th>\n",
              "      <td>8</td>\n",
              "      <td>2016</td>\n",
              "      <td>Municipios</td>\n",
              "      <td>1282433</td>\n",
              "      <td>2643565</td>\n",
              "      <td>0</td>\n",
              "      <td>3</td>\n",
              "    </tr>\n",
              "  </tbody>\n",
              "</table>"
            ],
            "text/plain": [
              "<IPython.core.display.HTML object>"
            ]
          },
          "metadata": {
            "tags": []
          }
        },
        {
          "output_type": "stream",
          "text": [
            "\n"
          ],
          "name": "stdout"
        }
      ]
    },
    {
      "cell_type": "markdown",
      "metadata": {
        "id": "hWpqbwXsAJ87",
        "colab_type": "text"
      },
      "source": [
        "## SECCIÓN 3: EDICIÓN DE NOMBRES DE COLUMNAS"
      ]
    },
    {
      "cell_type": "code",
      "metadata": {
        "id": "OQ0KfIEHyey3",
        "colab_type": "code",
        "cellView": "form",
        "colab": {}
      },
      "source": [
        "#@title Definir funciones a usar\n",
        "def reemplazar_nombres_columnas(df_temp, reemplazar):\n",
        "  '''Recibe un nuevo nombre de columna y lo reemplaza por una anteriormente dado'''\n",
        "  \n",
        "  if reemplazar == 'Y':\n",
        "\n",
        "    print(\"\\t¿Cuál es nombre de columna a reemplazar? \", end=\"\")\n",
        "    columna_anterior = input()\n",
        "    print(\"\\t¿Cuál es el nuevo nombre de columna?\", end=\"\")\n",
        "    columna_nueva = input()\n",
        "    print(f\"\\n\\tSe reemplazará: {columna_anterior} por {columna_nueva}\")\n",
        "\n",
        "    if columna_anterior in df_temp.columns and columna_nueva:\n",
        "  \n",
        "      df_temp.rename(columns={ columna_anterior :columna_nueva},inplace=True)\n",
        "      \n",
        "      print ('\\n\\tREEMPLAZO LISTO!\\n')\n",
        "      print('\\n\\tESTAS SON LAS COLUMNAS AHORA:\\n\\n\\t',df_temp.columns)\n",
        "    else:\n",
        "      print(f'{columna_anterior} No es una columna existente! y/o recuerda agregar el texto por el cual sustituir')\n",
        "\n",
        "  print('\\n\\t ¿Deseas reemplazar el nombre de otra columna? (Y/N)')\n",
        "  reemplazar = input()\n",
        "\n",
        "  if reemplazar == 'Y':\n",
        "    df_temp=reemplazar_nombres_columnas(df_temp, reemplazar)\n",
        "    print('\\tSe actualizará el nombre de la columna en el archivo de excel')\n",
        "  else:\n",
        "    print('\\tFinalizando edición de columnas de este archivo...')\n",
        "\n",
        "  return df_temp\n",
        "\n",
        "\n",
        "def rename_columns(content_books=[], sheet_name='Polling_places_corrections'):\n",
        "  '''Reads the name and renames certain columns of a sheet'''\n",
        "  for book in content_books:\n",
        "\n",
        "    print('\\n\\nNOMBRE DEL ARCHIVO:',book)\n",
        "    try:\n",
        "      df_temp=pd.read_excel(book,sheet_name=sheet_name)\n",
        "    except:\n",
        "      print(f'No existe la hoja {sheet_name} en el archivo: {book}')\n",
        "      continue\n",
        "    print('\\n\\n\\tESTAS SON LAS COLUMNAS PRESENTES:\\n\\n')\n",
        "    print('\\t',df_temp.columns)\n",
        "    print('\\n\\t¿Deseas reemplazar el nombre de alguna columna? (Y/N)')\n",
        "\n",
        "    reemplazar = input()\n",
        "\n",
        "    if reemplazar == 'Y': \n",
        "      df_temp = reemplazar_nombres_columnas(df_temp,reemplazar)\n",
        "      add_new_sheet(name_book=book,df=df_temp,name_sheet=sheet_name)\n",
        "      print('\\tSe actualizó el nombre de la columna en el archivo de excel')\n",
        "    else:\n",
        "      if reemplazar == 'N':\n",
        "        print('\\tBye!')\n",
        "      else:\n",
        "        print('\\tOpción no válida, pasaremos al siguiente archivo...')\n",
        "\n",
        "  return print('\\nProceso finalizado :D')"
      ],
      "execution_count": 50,
      "outputs": []
    },
    {
      "cell_type": "code",
      "metadata": {
        "id": "riLM0ZDc1Snv",
        "colab_type": "code",
        "cellView": "form",
        "colab": {
          "base_uri": "https://localhost:8080/",
          "height": 1000
        },
        "outputId": "08a1c34d-f872-4e50-f008-839906b69812"
      },
      "source": [
        "#@title Proccess to help us to rename columns\n",
        "\n",
        "from IPython.display import display, HTML\n",
        "\n",
        "\n",
        "content_books =  \"*.xlsx | tr '\\n' '\\n'\"#@param {type:\"raw\"}\n",
        "content_books =  !ls {content_books}\n",
        "sheet_name=\"Polling_places\"#@param {type:\"string\"}\n",
        "\n",
        "\n",
        "rename_columns(content_books=content_books, sheet_name=sheet_name)"
      ],
      "execution_count": 52,
      "outputs": [
        {
          "output_type": "stream",
          "text": [
            "\n",
            "\n",
            "NOMBRE DEL ARCHIVO: chiapas_municipios_2018_polling_place.xlsx\n",
            "\n",
            "\n",
            "\tESTAS SON LAS COLUMNAS PRESENTES:\n",
            "\n",
            "\n",
            "\t Index(['section_id', 'local_district_id', 'municipality_id', 'state_id', 'PAN',\n",
            "       'PRI', 'PRD', 'PT', 'PVEM', 'MC', 'PANAL', 'PCU', 'MORENA', 'PES',\n",
            "       'PMVC', 'PAN,PRD,MC', 'PAN,PRD', 'PAN,MC', 'PRD,MC', 'MORENA,PT,PES',\n",
            "       'PT,MORENA', 'PT,PES', 'MORENA,PES', 'PRI,PVEM,PANAL,PCU',\n",
            "       'PRI,PVEM,PANAL', 'PRI,PVEM,PCU', 'PRI,PANAL,PCU', 'PVEM,PANAL,PCU',\n",
            "       'PRI,PVEM', 'PRI,PANAL', 'PRI,PCU', 'PVEM,PANAL', 'PVEM,PCU',\n",
            "       'PANAL,PCU', 'C. Independiente 1', 'C. Independiente 2',\n",
            "       'C. Independiente 3', 'C. Independiente 4', 'C. Independiente 5',\n",
            "       'C. Independiente 6', 'C. Independiente 7', 'C. Independiente 8',\n",
            "       'C. Independiente 9', 'C. Independiente 10', 'C. Independiente 11',\n",
            "       'C. Independiente 12', 'C. Independiente 13', 'C. Independiente 14',\n",
            "       'C. Independiente 15', 'C. Independiente 16', 'C. Independiente 17',\n",
            "       'C. Independiente 18', 'C. Independiente 19', 'C. Independiente 20',\n",
            "       'C. Independiente 21', 'C. Independiente 22', 'C. Independiente 23',\n",
            "       'C. Independiente 24', 'C. Independiente 25', 'C. Independiente 26',\n",
            "       'C. Independiente 27', 'C. Independiente 28', 'C. Independiente 29',\n",
            "       'C. Independiente 30', 'C. Independiente 31', 'C. Independiente 32',\n",
            "       'C. Independiente 33', 'C. Independiente 34', 'C. Independiente 35',\n",
            "       'C. Independiente 36', 'C. Independiente 37', 'C. Independiente 38',\n",
            "       'C. Independiente 39', 'C. Independiente 40', 'C. Independiente 41',\n",
            "       'Not_reg', 'Null_votes'],\n",
            "      dtype='object')\n",
            "\n",
            "\t¿Deseas reemplazar el nombre de alguna columna? (Y/N)\n",
            "N\n",
            "\tBye!\n",
            "\n",
            "\n",
            "NOMBRE DEL ARCHIVO: chihuahua_municipios_2016.xlsx\n",
            "No existe la hoja Polling_places en el archivo: chihuahua_municipios_2016.xlsx\n",
            "\n",
            "\n",
            "NOMBRE DEL ARCHIVO: chihuahua_municipios_2018_polling_place.xlsx\n",
            "\n",
            "\n",
            "\tESTAS SON LAS COLUMNAS PRESENTES:\n",
            "\n",
            "\n",
            "\t Index(['section_id', 'local_district_id', 'municipality_id', 'state_id', 'PAN',\n",
            "       'PRI', 'PRD', 'PVEM', 'PT', 'MC', 'PANAL', 'MORENA', 'PES', 'PAN,MC',\n",
            "       'PT,MORENA,PES', 'PT,MORENA', 'PT,PES', 'MORENA,PES',\n",
            "       'C. Independiente 1', 'C. Independiente 2', 'C. Independiente 3',\n",
            "       'Not_reg', 'Null_votes'],\n",
            "      dtype='object')\n",
            "\n",
            "\t¿Deseas reemplazar el nombre de alguna columna? (Y/N)\n",
            "N\n",
            "\tBye!\n",
            "\n",
            "Proceso finalizado :D\n"
          ],
          "name": "stdout"
        }
      ]
    },
    {
      "cell_type": "markdown",
      "metadata": {
        "id": "lqiNQ1muzUn_",
        "colab_type": "text"
      },
      "source": [
        "## SECCIÓN 4: EVALUACIÓN CONTINUIDAD COLUMNA"
      ]
    },
    {
      "cell_type": "code",
      "metadata": {
        "id": "z_-Lf0py0amh",
        "colab_type": "code",
        "cellView": "form",
        "colab": {}
      },
      "source": [
        "#@title functions [evaluación continuidad]\n",
        "def continuidad_columna(content_books=[], \n",
        "                        sheet_name='Polling_places_corrections',\n",
        "                        column_to_evaluate='local_district_id'\n",
        "                        ):\n",
        "  ''' Evaluá si existe continuidad en columma determinada de una hoja del libro dada, compromando que sea vacía la diferencia simétrica'''\n",
        "  evaluacion_distritos={}\n",
        "\n",
        "  #print ('\\nPara todos los archivos siguientes se evaluará la hoja:',sheet_name,'y la columna:' ,column_to_evaluate)\n",
        "  for book in content_books:\n",
        "\n",
        "    #print('\\nLibro:',book)\n",
        "    try:\n",
        "      df_temp = pd.read_excel(book,sheet_name=sheet_name)\n",
        "    except:\n",
        "      print(f'\\tNo existe la hoja {sheet_name} en el archivo: {book}')\n",
        "      continue\n",
        "\n",
        "    evaluacion_distritos[book]={}\n",
        "\n",
        "\n",
        "    _df=df_temp.agg({column_to_evaluate:['max','min']})\n",
        "    _unicos = df_temp[column_to_evaluate].unique()\n",
        "\n",
        "    evaluacion_distritos[book]['min'] = _df[column_to_evaluate]['min']\n",
        "    evaluacion_distritos[book]['max'] = _df[column_to_evaluate]['max']\n",
        "    evaluacion_distritos[book]['shape']= df_temp.shape\n",
        "    evaluacion_distritos[book]['size']= df_temp.size\n",
        "\n",
        "    a = set(_unicos)\n",
        "    b = set(np.arange(evaluacion_distritos[book]['min'],evaluacion_distritos[book]['max'] + 1))\n",
        "    c = a^b\n",
        "\n",
        "    evaluacion_distritos[book]['diferencia']=\", \".join(map(str,c))\n",
        "  return evaluacion_distritos"
      ],
      "execution_count": 46,
      "outputs": []
    },
    {
      "cell_type": "code",
      "metadata": {
        "id": "-P8Nde5OZRYR",
        "colab_type": "code",
        "cellView": "form",
        "colab": {
          "base_uri": "https://localhost:8080/",
          "height": 128
        },
        "outputId": "a16e270d-8f96-4217-f862-c3fecedcebb0"
      },
      "source": [
        "#@title Process to evaluate continuity in a column\n",
        "import numpy as np\n",
        "from IPython.display import display, HTML\n",
        "\n",
        "\n",
        "content_books =  \"*.xlsx | tr '\\n' '\\n'\"#@param {type:\"raw\"}\n",
        "content_books =  !ls {content_books}\n",
        "column_to_evaluate =  \"local_district_id\"#@param {type:\"string\"}\n",
        "sheet_name=\"Polling_places\"#@param {type:\"string\"}\n",
        "\n",
        "evaluacion_distritos=continuidad_columna(content_books=content_books, \n",
        "                        sheet_name=sheet_name,\n",
        "                        column_to_evaluate=column_to_evaluate\n",
        "                        )\n",
        "\n",
        "df = pd.DataFrame([[key.split('.')[0],value['diferencia'],value['min'], value['max'], value['shape'], value['size']] for key,value in evaluacion_distritos.items()], \n",
        "                  columns=['Libro', 'IDs No Continuos', 'Mínimo', 'Máximo', 'Filas,Columnas', 'Total Celdas'])\n",
        "display(HTML(df.to_html()))\n"
      ],
      "execution_count": 49,
      "outputs": [
        {
          "output_type": "stream",
          "text": [
            "\tNo existe la hoja Polling_places en el archivo: chihuahua_municipios_2016.xlsx\n"
          ],
          "name": "stdout"
        },
        {
          "output_type": "display_data",
          "data": {
            "text/html": [
              "<table border=\"1\" class=\"dataframe\">\n",
              "  <thead>\n",
              "    <tr style=\"text-align: right;\">\n",
              "      <th></th>\n",
              "      <th>Libro</th>\n",
              "      <th>IDs No Continuos</th>\n",
              "      <th>Mínimo</th>\n",
              "      <th>Máximo</th>\n",
              "      <th>Filas,Columnas</th>\n",
              "      <th>Total Celdas</th>\n",
              "    </tr>\n",
              "  </thead>\n",
              "  <tbody>\n",
              "    <tr>\n",
              "      <th>0</th>\n",
              "      <td>chiapas_municipios_2018_polling_place</td>\n",
              "      <td></td>\n",
              "      <td>1</td>\n",
              "      <td>24</td>\n",
              "      <td>(6303, 77)</td>\n",
              "      <td>485331</td>\n",
              "    </tr>\n",
              "    <tr>\n",
              "      <th>1</th>\n",
              "      <td>chihuahua_municipios_2018_polling_place</td>\n",
              "      <td></td>\n",
              "      <td>0</td>\n",
              "      <td>0</td>\n",
              "      <td>(5297, 23)</td>\n",
              "      <td>121831</td>\n",
              "    </tr>\n",
              "  </tbody>\n",
              "</table>"
            ],
            "text/plain": [
              "<IPython.core.display.HTML object>"
            ]
          },
          "metadata": {
            "tags": []
          }
        }
      ]
    },
    {
      "cell_type": "markdown",
      "metadata": {
        "id": "F29q11DUzbKJ",
        "colab_type": "text"
      },
      "source": [
        "## SECCIÓN 5: Descargar archivos"
      ]
    },
    {
      "cell_type": "code",
      "metadata": {
        "id": "6LtMLoLiiS5n",
        "colab_type": "code",
        "colab": {
          "base_uri": "https://localhost:8080/",
          "height": 17
        },
        "outputId": "e755819e-311a-4c3a-efa5-18ff6aaf7679"
      },
      "source": [
        "archivos= ! ls *.xlsx | tr '\\n' '\\n'\n",
        "from google.colab import files\n",
        "\n",
        "for archivo in archivos:\n",
        "  files.download(archivo)"
      ],
      "execution_count": null,
      "outputs": [
        {
          "output_type": "display_data",
          "data": {
            "application/javascript": [
              "\n",
              "    async function download(id, filename, size) {\n",
              "      if (!google.colab.kernel.accessAllowed) {\n",
              "        return;\n",
              "      }\n",
              "      const div = document.createElement('div');\n",
              "      const label = document.createElement('label');\n",
              "      label.textContent = `Downloading \"${filename}\": `;\n",
              "      div.appendChild(label);\n",
              "      const progress = document.createElement('progress');\n",
              "      progress.max = size;\n",
              "      div.appendChild(progress);\n",
              "      document.body.appendChild(div);\n",
              "\n",
              "      const buffers = [];\n",
              "      let downloaded = 0;\n",
              "\n",
              "      const channel = await google.colab.kernel.comms.open(id);\n",
              "      // Send a message to notify the kernel that we're ready.\n",
              "      channel.send({})\n",
              "\n",
              "      for await (const message of channel.messages) {\n",
              "        // Send a message to notify the kernel that we're ready.\n",
              "        channel.send({})\n",
              "        if (message.buffers) {\n",
              "          for (const buffer of message.buffers) {\n",
              "            buffers.push(buffer);\n",
              "            downloaded += buffer.byteLength;\n",
              "            progress.value = downloaded;\n",
              "          }\n",
              "        }\n",
              "      }\n",
              "      const blob = new Blob(buffers, {type: 'application/binary'});\n",
              "      const a = document.createElement('a');\n",
              "      a.href = window.URL.createObjectURL(blob);\n",
              "      a.download = filename;\n",
              "      div.appendChild(a);\n",
              "      a.click();\n",
              "      div.remove();\n",
              "    }\n",
              "  "
            ],
            "text/plain": [
              "<IPython.core.display.Javascript object>"
            ]
          },
          "metadata": {
            "tags": []
          }
        },
        {
          "output_type": "display_data",
          "data": {
            "application/javascript": [
              "download(\"download_752d6fcc-1b27-4f93-8c40-4ed3bd120da2\", \"aguascalientes_diputados_2013_polling_place.xlsx\", 169341)"
            ],
            "text/plain": [
              "<IPython.core.display.Javascript object>"
            ]
          },
          "metadata": {
            "tags": []
          }
        }
      ]
    }
  ]
}